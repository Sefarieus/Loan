{
  "nbformat": 4,
  "nbformat_minor": 0,
  "metadata": {
    "colab": {
      "provenance": [],
      "collapsed_sections": [
        "K8uHVD3fnxp1",
        "bI_kf3jUR4UJ",
        "k5rJ7TG3G33G"
      ]
    },
    "kernelspec": {
      "name": "python3",
      "display_name": "Python 3"
    },
    "language_info": {
      "name": "python"
    }
  },
  "cells": [
    {
      "cell_type": "code",
      "execution_count": null,
      "metadata": {
        "id": "4Y6IbBTekkRA"
      },
      "outputs": [],
      "source": [
        "import pandas as pd\n",
        "from pandas import qcut\n",
        "import numpy as np\n",
        "import datetime as dt\n",
        "import matplotlib.pyplot as plt\n",
        "import seaborn as sns\n",
        "from operator import attrgetter\n",
        "import matplotlib.colors as mcolors\n",
        "import statsmodels.api as sm\n",
        "from sklearn.impute import KNNImputer\n",
        "from sklearn.preprocessing import LabelEncoder"
      ]
    },
    {
      "cell_type": "code",
      "source": [
        "train = pd.read_csv('train_u6lujuX_CVtuZ9i.csv')\n",
        "predict = pd.read_csv('test_Y3wMUE5_7gLdaTN.csv')"
      ],
      "metadata": {
        "id": "-QqiDWsqluI9"
      },
      "execution_count": null,
      "outputs": []
    },
    {
      "cell_type": "markdown",
      "source": [
        "##Data Preparation"
      ],
      "metadata": {
        "id": "K8uHVD3fnxp1"
      }
    },
    {
      "cell_type": "code",
      "source": [
        "train.head()"
      ],
      "metadata": {
        "colab": {
          "base_uri": "https://localhost:8080/"
        },
        "id": "t4xu--ttnxCh",
        "outputId": "811e4cec-d855-476f-966a-fc7a167e34c5"
      },
      "execution_count": null,
      "outputs": [
        {
          "output_type": "execute_result",
          "data": {
            "text/plain": [
              "    Loan_ID Gender Married Dependents     Education Self_Employed  \\\n",
              "0  LP001002   Male      No          0      Graduate            No   \n",
              "1  LP001003   Male     Yes          1      Graduate            No   \n",
              "2  LP001005   Male     Yes          0      Graduate           Yes   \n",
              "3  LP001006   Male     Yes          0  Not Graduate            No   \n",
              "4  LP001008   Male      No          0      Graduate            No   \n",
              "\n",
              "   ApplicantIncome  CoapplicantIncome  LoanAmount  Loan_Amount_Term  \\\n",
              "0             5849                0.0         NaN             360.0   \n",
              "1             4583             1508.0       128.0             360.0   \n",
              "2             3000                0.0        66.0             360.0   \n",
              "3             2583             2358.0       120.0             360.0   \n",
              "4             6000                0.0       141.0             360.0   \n",
              "\n",
              "   Credit_History Property_Area Loan_Status  \n",
              "0             1.0         Urban           Y  \n",
              "1             1.0         Rural           N  \n",
              "2             1.0         Urban           Y  \n",
              "3             1.0         Urban           Y  \n",
              "4             1.0         Urban           Y  "
            ],
            "text/html": [
              "\n",
              "  <div id=\"df-83a7567f-44a0-4436-acef-005d4f268220\" class=\"colab-df-container\">\n",
              "    <div>\n",
              "<style scoped>\n",
              "    .dataframe tbody tr th:only-of-type {\n",
              "        vertical-align: middle;\n",
              "    }\n",
              "\n",
              "    .dataframe tbody tr th {\n",
              "        vertical-align: top;\n",
              "    }\n",
              "\n",
              "    .dataframe thead th {\n",
              "        text-align: right;\n",
              "    }\n",
              "</style>\n",
              "<table border=\"1\" class=\"dataframe\">\n",
              "  <thead>\n",
              "    <tr style=\"text-align: right;\">\n",
              "      <th></th>\n",
              "      <th>Loan_ID</th>\n",
              "      <th>Gender</th>\n",
              "      <th>Married</th>\n",
              "      <th>Dependents</th>\n",
              "      <th>Education</th>\n",
              "      <th>Self_Employed</th>\n",
              "      <th>ApplicantIncome</th>\n",
              "      <th>CoapplicantIncome</th>\n",
              "      <th>LoanAmount</th>\n",
              "      <th>Loan_Amount_Term</th>\n",
              "      <th>Credit_History</th>\n",
              "      <th>Property_Area</th>\n",
              "      <th>Loan_Status</th>\n",
              "    </tr>\n",
              "  </thead>\n",
              "  <tbody>\n",
              "    <tr>\n",
              "      <th>0</th>\n",
              "      <td>LP001002</td>\n",
              "      <td>Male</td>\n",
              "      <td>No</td>\n",
              "      <td>0</td>\n",
              "      <td>Graduate</td>\n",
              "      <td>No</td>\n",
              "      <td>5849</td>\n",
              "      <td>0.0</td>\n",
              "      <td>NaN</td>\n",
              "      <td>360.0</td>\n",
              "      <td>1.0</td>\n",
              "      <td>Urban</td>\n",
              "      <td>Y</td>\n",
              "    </tr>\n",
              "    <tr>\n",
              "      <th>1</th>\n",
              "      <td>LP001003</td>\n",
              "      <td>Male</td>\n",
              "      <td>Yes</td>\n",
              "      <td>1</td>\n",
              "      <td>Graduate</td>\n",
              "      <td>No</td>\n",
              "      <td>4583</td>\n",
              "      <td>1508.0</td>\n",
              "      <td>128.0</td>\n",
              "      <td>360.0</td>\n",
              "      <td>1.0</td>\n",
              "      <td>Rural</td>\n",
              "      <td>N</td>\n",
              "    </tr>\n",
              "    <tr>\n",
              "      <th>2</th>\n",
              "      <td>LP001005</td>\n",
              "      <td>Male</td>\n",
              "      <td>Yes</td>\n",
              "      <td>0</td>\n",
              "      <td>Graduate</td>\n",
              "      <td>Yes</td>\n",
              "      <td>3000</td>\n",
              "      <td>0.0</td>\n",
              "      <td>66.0</td>\n",
              "      <td>360.0</td>\n",
              "      <td>1.0</td>\n",
              "      <td>Urban</td>\n",
              "      <td>Y</td>\n",
              "    </tr>\n",
              "    <tr>\n",
              "      <th>3</th>\n",
              "      <td>LP001006</td>\n",
              "      <td>Male</td>\n",
              "      <td>Yes</td>\n",
              "      <td>0</td>\n",
              "      <td>Not Graduate</td>\n",
              "      <td>No</td>\n",
              "      <td>2583</td>\n",
              "      <td>2358.0</td>\n",
              "      <td>120.0</td>\n",
              "      <td>360.0</td>\n",
              "      <td>1.0</td>\n",
              "      <td>Urban</td>\n",
              "      <td>Y</td>\n",
              "    </tr>\n",
              "    <tr>\n",
              "      <th>4</th>\n",
              "      <td>LP001008</td>\n",
              "      <td>Male</td>\n",
              "      <td>No</td>\n",
              "      <td>0</td>\n",
              "      <td>Graduate</td>\n",
              "      <td>No</td>\n",
              "      <td>6000</td>\n",
              "      <td>0.0</td>\n",
              "      <td>141.0</td>\n",
              "      <td>360.0</td>\n",
              "      <td>1.0</td>\n",
              "      <td>Urban</td>\n",
              "      <td>Y</td>\n",
              "    </tr>\n",
              "  </tbody>\n",
              "</table>\n",
              "</div>\n",
              "    <div class=\"colab-df-buttons\">\n",
              "\n",
              "  <div class=\"colab-df-container\">\n",
              "    <button class=\"colab-df-convert\" onclick=\"convertToInteractive('df-83a7567f-44a0-4436-acef-005d4f268220')\"\n",
              "            title=\"Convert this dataframe to an interactive table.\"\n",
              "            style=\"display:none;\">\n",
              "\n",
              "  <svg xmlns=\"http://www.w3.org/2000/svg\" height=\"24px\" viewBox=\"0 -960 960 960\">\n",
              "    <path d=\"M120-120v-720h720v720H120Zm60-500h600v-160H180v160Zm220 220h160v-160H400v160Zm0 220h160v-160H400v160ZM180-400h160v-160H180v160Zm440 0h160v-160H620v160ZM180-180h160v-160H180v160Zm440 0h160v-160H620v160Z\"/>\n",
              "  </svg>\n",
              "    </button>\n",
              "\n",
              "  <style>\n",
              "    .colab-df-container {\n",
              "      display:flex;\n",
              "      gap: 12px;\n",
              "    }\n",
              "\n",
              "    .colab-df-convert {\n",
              "      background-color: #E8F0FE;\n",
              "      border: none;\n",
              "      border-radius: 50%;\n",
              "      cursor: pointer;\n",
              "      display: none;\n",
              "      fill: #1967D2;\n",
              "      height: 32px;\n",
              "      padding: 0 0 0 0;\n",
              "      width: 32px;\n",
              "    }\n",
              "\n",
              "    .colab-df-convert:hover {\n",
              "      background-color: #E2EBFA;\n",
              "      box-shadow: 0px 1px 2px rgba(60, 64, 67, 0.3), 0px 1px 3px 1px rgba(60, 64, 67, 0.15);\n",
              "      fill: #174EA6;\n",
              "    }\n",
              "\n",
              "    .colab-df-buttons div {\n",
              "      margin-bottom: 4px;\n",
              "    }\n",
              "\n",
              "    [theme=dark] .colab-df-convert {\n",
              "      background-color: #3B4455;\n",
              "      fill: #D2E3FC;\n",
              "    }\n",
              "\n",
              "    [theme=dark] .colab-df-convert:hover {\n",
              "      background-color: #434B5C;\n",
              "      box-shadow: 0px 1px 3px 1px rgba(0, 0, 0, 0.15);\n",
              "      filter: drop-shadow(0px 1px 2px rgba(0, 0, 0, 0.3));\n",
              "      fill: #FFFFFF;\n",
              "    }\n",
              "  </style>\n",
              "\n",
              "    <script>\n",
              "      const buttonEl =\n",
              "        document.querySelector('#df-83a7567f-44a0-4436-acef-005d4f268220 button.colab-df-convert');\n",
              "      buttonEl.style.display =\n",
              "        google.colab.kernel.accessAllowed ? 'block' : 'none';\n",
              "\n",
              "      async function convertToInteractive(key) {\n",
              "        const element = document.querySelector('#df-83a7567f-44a0-4436-acef-005d4f268220');\n",
              "        const dataTable =\n",
              "          await google.colab.kernel.invokeFunction('convertToInteractive',\n",
              "                                                    [key], {});\n",
              "        if (!dataTable) return;\n",
              "\n",
              "        const docLinkHtml = 'Like what you see? Visit the ' +\n",
              "          '<a target=\"_blank\" href=https://colab.research.google.com/notebooks/data_table.ipynb>data table notebook</a>'\n",
              "          + ' to learn more about interactive tables.';\n",
              "        element.innerHTML = '';\n",
              "        dataTable['output_type'] = 'display_data';\n",
              "        await google.colab.output.renderOutput(dataTable, element);\n",
              "        const docLink = document.createElement('div');\n",
              "        docLink.innerHTML = docLinkHtml;\n",
              "        element.appendChild(docLink);\n",
              "      }\n",
              "    </script>\n",
              "  </div>\n",
              "\n",
              "\n",
              "<div id=\"df-6043ebdf-41e9-4781-8999-c8b5e03dbe03\">\n",
              "  <button class=\"colab-df-quickchart\" onclick=\"quickchart('df-6043ebdf-41e9-4781-8999-c8b5e03dbe03')\"\n",
              "            title=\"Suggest charts\"\n",
              "            style=\"display:none;\">\n",
              "\n",
              "<svg xmlns=\"http://www.w3.org/2000/svg\" height=\"24px\"viewBox=\"0 0 24 24\"\n",
              "     width=\"24px\">\n",
              "    <g>\n",
              "        <path d=\"M19 3H5c-1.1 0-2 .9-2 2v14c0 1.1.9 2 2 2h14c1.1 0 2-.9 2-2V5c0-1.1-.9-2-2-2zM9 17H7v-7h2v7zm4 0h-2V7h2v10zm4 0h-2v-4h2v4z\"/>\n",
              "    </g>\n",
              "</svg>\n",
              "  </button>\n",
              "\n",
              "<style>\n",
              "  .colab-df-quickchart {\n",
              "      --bg-color: #E8F0FE;\n",
              "      --fill-color: #1967D2;\n",
              "      --hover-bg-color: #E2EBFA;\n",
              "      --hover-fill-color: #174EA6;\n",
              "      --disabled-fill-color: #AAA;\n",
              "      --disabled-bg-color: #DDD;\n",
              "  }\n",
              "\n",
              "  [theme=dark] .colab-df-quickchart {\n",
              "      --bg-color: #3B4455;\n",
              "      --fill-color: #D2E3FC;\n",
              "      --hover-bg-color: #434B5C;\n",
              "      --hover-fill-color: #FFFFFF;\n",
              "      --disabled-bg-color: #3B4455;\n",
              "      --disabled-fill-color: #666;\n",
              "  }\n",
              "\n",
              "  .colab-df-quickchart {\n",
              "    background-color: var(--bg-color);\n",
              "    border: none;\n",
              "    border-radius: 50%;\n",
              "    cursor: pointer;\n",
              "    display: none;\n",
              "    fill: var(--fill-color);\n",
              "    height: 32px;\n",
              "    padding: 0;\n",
              "    width: 32px;\n",
              "  }\n",
              "\n",
              "  .colab-df-quickchart:hover {\n",
              "    background-color: var(--hover-bg-color);\n",
              "    box-shadow: 0 1px 2px rgba(60, 64, 67, 0.3), 0 1px 3px 1px rgba(60, 64, 67, 0.15);\n",
              "    fill: var(--button-hover-fill-color);\n",
              "  }\n",
              "\n",
              "  .colab-df-quickchart-complete:disabled,\n",
              "  .colab-df-quickchart-complete:disabled:hover {\n",
              "    background-color: var(--disabled-bg-color);\n",
              "    fill: var(--disabled-fill-color);\n",
              "    box-shadow: none;\n",
              "  }\n",
              "\n",
              "  .colab-df-spinner {\n",
              "    border: 2px solid var(--fill-color);\n",
              "    border-color: transparent;\n",
              "    border-bottom-color: var(--fill-color);\n",
              "    animation:\n",
              "      spin 1s steps(1) infinite;\n",
              "  }\n",
              "\n",
              "  @keyframes spin {\n",
              "    0% {\n",
              "      border-color: transparent;\n",
              "      border-bottom-color: var(--fill-color);\n",
              "      border-left-color: var(--fill-color);\n",
              "    }\n",
              "    20% {\n",
              "      border-color: transparent;\n",
              "      border-left-color: var(--fill-color);\n",
              "      border-top-color: var(--fill-color);\n",
              "    }\n",
              "    30% {\n",
              "      border-color: transparent;\n",
              "      border-left-color: var(--fill-color);\n",
              "      border-top-color: var(--fill-color);\n",
              "      border-right-color: var(--fill-color);\n",
              "    }\n",
              "    40% {\n",
              "      border-color: transparent;\n",
              "      border-right-color: var(--fill-color);\n",
              "      border-top-color: var(--fill-color);\n",
              "    }\n",
              "    60% {\n",
              "      border-color: transparent;\n",
              "      border-right-color: var(--fill-color);\n",
              "    }\n",
              "    80% {\n",
              "      border-color: transparent;\n",
              "      border-right-color: var(--fill-color);\n",
              "      border-bottom-color: var(--fill-color);\n",
              "    }\n",
              "    90% {\n",
              "      border-color: transparent;\n",
              "      border-bottom-color: var(--fill-color);\n",
              "    }\n",
              "  }\n",
              "</style>\n",
              "\n",
              "  <script>\n",
              "    async function quickchart(key) {\n",
              "      const quickchartButtonEl =\n",
              "        document.querySelector('#' + key + ' button');\n",
              "      quickchartButtonEl.disabled = true;  // To prevent multiple clicks.\n",
              "      quickchartButtonEl.classList.add('colab-df-spinner');\n",
              "      try {\n",
              "        const charts = await google.colab.kernel.invokeFunction(\n",
              "            'suggestCharts', [key], {});\n",
              "      } catch (error) {\n",
              "        console.error('Error during call to suggestCharts:', error);\n",
              "      }\n",
              "      quickchartButtonEl.classList.remove('colab-df-spinner');\n",
              "      quickchartButtonEl.classList.add('colab-df-quickchart-complete');\n",
              "    }\n",
              "    (() => {\n",
              "      let quickchartButtonEl =\n",
              "        document.querySelector('#df-6043ebdf-41e9-4781-8999-c8b5e03dbe03 button');\n",
              "      quickchartButtonEl.style.display =\n",
              "        google.colab.kernel.accessAllowed ? 'block' : 'none';\n",
              "    })();\n",
              "  </script>\n",
              "</div>\n",
              "\n",
              "    </div>\n",
              "  </div>\n"
            ],
            "application/vnd.google.colaboratory.intrinsic+json": {
              "type": "dataframe",
              "variable_name": "train",
              "summary": "{\n  \"name\": \"train\",\n  \"rows\": 614,\n  \"fields\": [\n    {\n      \"column\": \"Loan_ID\",\n      \"properties\": {\n        \"dtype\": \"string\",\n        \"num_unique_values\": 614,\n        \"samples\": [\n          \"LP002139\",\n          \"LP002223\",\n          \"LP001570\"\n        ],\n        \"semantic_type\": \"\",\n        \"description\": \"\"\n      }\n    },\n    {\n      \"column\": \"Gender\",\n      \"properties\": {\n        \"dtype\": \"category\",\n        \"num_unique_values\": 2,\n        \"samples\": [\n          \"Female\",\n          \"Male\"\n        ],\n        \"semantic_type\": \"\",\n        \"description\": \"\"\n      }\n    },\n    {\n      \"column\": \"Married\",\n      \"properties\": {\n        \"dtype\": \"category\",\n        \"num_unique_values\": 2,\n        \"samples\": [\n          \"Yes\",\n          \"No\"\n        ],\n        \"semantic_type\": \"\",\n        \"description\": \"\"\n      }\n    },\n    {\n      \"column\": \"Dependents\",\n      \"properties\": {\n        \"dtype\": \"category\",\n        \"num_unique_values\": 4,\n        \"samples\": [\n          \"1\",\n          \"3+\"\n        ],\n        \"semantic_type\": \"\",\n        \"description\": \"\"\n      }\n    },\n    {\n      \"column\": \"Education\",\n      \"properties\": {\n        \"dtype\": \"category\",\n        \"num_unique_values\": 2,\n        \"samples\": [\n          \"Not Graduate\",\n          \"Graduate\"\n        ],\n        \"semantic_type\": \"\",\n        \"description\": \"\"\n      }\n    },\n    {\n      \"column\": \"Self_Employed\",\n      \"properties\": {\n        \"dtype\": \"category\",\n        \"num_unique_values\": 2,\n        \"samples\": [\n          \"Yes\",\n          \"No\"\n        ],\n        \"semantic_type\": \"\",\n        \"description\": \"\"\n      }\n    },\n    {\n      \"column\": \"ApplicantIncome\",\n      \"properties\": {\n        \"dtype\": \"number\",\n        \"std\": 6109,\n        \"min\": 150,\n        \"max\": 81000,\n        \"num_unique_values\": 505,\n        \"samples\": [\n          8333,\n          4342\n        ],\n        \"semantic_type\": \"\",\n        \"description\": \"\"\n      }\n    },\n    {\n      \"column\": \"CoapplicantIncome\",\n      \"properties\": {\n        \"dtype\": \"number\",\n        \"std\": 2926.2483692241885,\n        \"min\": 0.0,\n        \"max\": 41667.0,\n        \"num_unique_values\": 287,\n        \"samples\": [\n          1840.0,\n          2042.0\n        ],\n        \"semantic_type\": \"\",\n        \"description\": \"\"\n      }\n    },\n    {\n      \"column\": \"LoanAmount\",\n      \"properties\": {\n        \"dtype\": \"number\",\n        \"std\": 85.58732523570545,\n        \"min\": 9.0,\n        \"max\": 700.0,\n        \"num_unique_values\": 203,\n        \"samples\": [\n          100.0,\n          70.0\n        ],\n        \"semantic_type\": \"\",\n        \"description\": \"\"\n      }\n    },\n    {\n      \"column\": \"Loan_Amount_Term\",\n      \"properties\": {\n        \"dtype\": \"number\",\n        \"std\": 65.12040985461256,\n        \"min\": 12.0,\n        \"max\": 480.0,\n        \"num_unique_values\": 10,\n        \"samples\": [\n          84.0,\n          120.0\n        ],\n        \"semantic_type\": \"\",\n        \"description\": \"\"\n      }\n    },\n    {\n      \"column\": \"Credit_History\",\n      \"properties\": {\n        \"dtype\": \"number\",\n        \"std\": 0.3648783192364048,\n        \"min\": 0.0,\n        \"max\": 1.0,\n        \"num_unique_values\": 2,\n        \"samples\": [\n          0.0,\n          1.0\n        ],\n        \"semantic_type\": \"\",\n        \"description\": \"\"\n      }\n    },\n    {\n      \"column\": \"Property_Area\",\n      \"properties\": {\n        \"dtype\": \"category\",\n        \"num_unique_values\": 3,\n        \"samples\": [\n          \"Urban\",\n          \"Rural\"\n        ],\n        \"semantic_type\": \"\",\n        \"description\": \"\"\n      }\n    },\n    {\n      \"column\": \"Loan_Status\",\n      \"properties\": {\n        \"dtype\": \"category\",\n        \"num_unique_values\": 2,\n        \"samples\": [\n          \"N\",\n          \"Y\"\n        ],\n        \"semantic_type\": \"\",\n        \"description\": \"\"\n      }\n    }\n  ]\n}"
            }
          },
          "metadata": {},
          "execution_count": 505
        }
      ]
    },
    {
      "cell_type": "code",
      "source": [
        "predict.head()"
      ],
      "metadata": {
        "colab": {
          "base_uri": "https://localhost:8080/"
        },
        "id": "IWZWDwSjo_xu",
        "outputId": "475e38ef-bb04-421c-ee68-126d85db0d8c"
      },
      "execution_count": null,
      "outputs": [
        {
          "output_type": "execute_result",
          "data": {
            "text/plain": [
              "    Loan_ID Gender Married Dependents     Education Self_Employed  \\\n",
              "0  LP001015   Male     Yes          0      Graduate            No   \n",
              "1  LP001022   Male     Yes          1      Graduate            No   \n",
              "2  LP001031   Male     Yes          2      Graduate            No   \n",
              "3  LP001035   Male     Yes          2      Graduate            No   \n",
              "4  LP001051   Male      No          0  Not Graduate            No   \n",
              "\n",
              "   ApplicantIncome  CoapplicantIncome  LoanAmount  Loan_Amount_Term  \\\n",
              "0             5720                  0       110.0             360.0   \n",
              "1             3076               1500       126.0             360.0   \n",
              "2             5000               1800       208.0             360.0   \n",
              "3             2340               2546       100.0             360.0   \n",
              "4             3276                  0        78.0             360.0   \n",
              "\n",
              "   Credit_History Property_Area  \n",
              "0             1.0         Urban  \n",
              "1             1.0         Urban  \n",
              "2             1.0         Urban  \n",
              "3             NaN         Urban  \n",
              "4             1.0         Urban  "
            ],
            "text/html": [
              "\n",
              "  <div id=\"df-f26c36c4-ff9c-4990-939e-eee218dd663f\" class=\"colab-df-container\">\n",
              "    <div>\n",
              "<style scoped>\n",
              "    .dataframe tbody tr th:only-of-type {\n",
              "        vertical-align: middle;\n",
              "    }\n",
              "\n",
              "    .dataframe tbody tr th {\n",
              "        vertical-align: top;\n",
              "    }\n",
              "\n",
              "    .dataframe thead th {\n",
              "        text-align: right;\n",
              "    }\n",
              "</style>\n",
              "<table border=\"1\" class=\"dataframe\">\n",
              "  <thead>\n",
              "    <tr style=\"text-align: right;\">\n",
              "      <th></th>\n",
              "      <th>Loan_ID</th>\n",
              "      <th>Gender</th>\n",
              "      <th>Married</th>\n",
              "      <th>Dependents</th>\n",
              "      <th>Education</th>\n",
              "      <th>Self_Employed</th>\n",
              "      <th>ApplicantIncome</th>\n",
              "      <th>CoapplicantIncome</th>\n",
              "      <th>LoanAmount</th>\n",
              "      <th>Loan_Amount_Term</th>\n",
              "      <th>Credit_History</th>\n",
              "      <th>Property_Area</th>\n",
              "    </tr>\n",
              "  </thead>\n",
              "  <tbody>\n",
              "    <tr>\n",
              "      <th>0</th>\n",
              "      <td>LP001015</td>\n",
              "      <td>Male</td>\n",
              "      <td>Yes</td>\n",
              "      <td>0</td>\n",
              "      <td>Graduate</td>\n",
              "      <td>No</td>\n",
              "      <td>5720</td>\n",
              "      <td>0</td>\n",
              "      <td>110.0</td>\n",
              "      <td>360.0</td>\n",
              "      <td>1.0</td>\n",
              "      <td>Urban</td>\n",
              "    </tr>\n",
              "    <tr>\n",
              "      <th>1</th>\n",
              "      <td>LP001022</td>\n",
              "      <td>Male</td>\n",
              "      <td>Yes</td>\n",
              "      <td>1</td>\n",
              "      <td>Graduate</td>\n",
              "      <td>No</td>\n",
              "      <td>3076</td>\n",
              "      <td>1500</td>\n",
              "      <td>126.0</td>\n",
              "      <td>360.0</td>\n",
              "      <td>1.0</td>\n",
              "      <td>Urban</td>\n",
              "    </tr>\n",
              "    <tr>\n",
              "      <th>2</th>\n",
              "      <td>LP001031</td>\n",
              "      <td>Male</td>\n",
              "      <td>Yes</td>\n",
              "      <td>2</td>\n",
              "      <td>Graduate</td>\n",
              "      <td>No</td>\n",
              "      <td>5000</td>\n",
              "      <td>1800</td>\n",
              "      <td>208.0</td>\n",
              "      <td>360.0</td>\n",
              "      <td>1.0</td>\n",
              "      <td>Urban</td>\n",
              "    </tr>\n",
              "    <tr>\n",
              "      <th>3</th>\n",
              "      <td>LP001035</td>\n",
              "      <td>Male</td>\n",
              "      <td>Yes</td>\n",
              "      <td>2</td>\n",
              "      <td>Graduate</td>\n",
              "      <td>No</td>\n",
              "      <td>2340</td>\n",
              "      <td>2546</td>\n",
              "      <td>100.0</td>\n",
              "      <td>360.0</td>\n",
              "      <td>NaN</td>\n",
              "      <td>Urban</td>\n",
              "    </tr>\n",
              "    <tr>\n",
              "      <th>4</th>\n",
              "      <td>LP001051</td>\n",
              "      <td>Male</td>\n",
              "      <td>No</td>\n",
              "      <td>0</td>\n",
              "      <td>Not Graduate</td>\n",
              "      <td>No</td>\n",
              "      <td>3276</td>\n",
              "      <td>0</td>\n",
              "      <td>78.0</td>\n",
              "      <td>360.0</td>\n",
              "      <td>1.0</td>\n",
              "      <td>Urban</td>\n",
              "    </tr>\n",
              "  </tbody>\n",
              "</table>\n",
              "</div>\n",
              "    <div class=\"colab-df-buttons\">\n",
              "\n",
              "  <div class=\"colab-df-container\">\n",
              "    <button class=\"colab-df-convert\" onclick=\"convertToInteractive('df-f26c36c4-ff9c-4990-939e-eee218dd663f')\"\n",
              "            title=\"Convert this dataframe to an interactive table.\"\n",
              "            style=\"display:none;\">\n",
              "\n",
              "  <svg xmlns=\"http://www.w3.org/2000/svg\" height=\"24px\" viewBox=\"0 -960 960 960\">\n",
              "    <path d=\"M120-120v-720h720v720H120Zm60-500h600v-160H180v160Zm220 220h160v-160H400v160Zm0 220h160v-160H400v160ZM180-400h160v-160H180v160Zm440 0h160v-160H620v160ZM180-180h160v-160H180v160Zm440 0h160v-160H620v160Z\"/>\n",
              "  </svg>\n",
              "    </button>\n",
              "\n",
              "  <style>\n",
              "    .colab-df-container {\n",
              "      display:flex;\n",
              "      gap: 12px;\n",
              "    }\n",
              "\n",
              "    .colab-df-convert {\n",
              "      background-color: #E8F0FE;\n",
              "      border: none;\n",
              "      border-radius: 50%;\n",
              "      cursor: pointer;\n",
              "      display: none;\n",
              "      fill: #1967D2;\n",
              "      height: 32px;\n",
              "      padding: 0 0 0 0;\n",
              "      width: 32px;\n",
              "    }\n",
              "\n",
              "    .colab-df-convert:hover {\n",
              "      background-color: #E2EBFA;\n",
              "      box-shadow: 0px 1px 2px rgba(60, 64, 67, 0.3), 0px 1px 3px 1px rgba(60, 64, 67, 0.15);\n",
              "      fill: #174EA6;\n",
              "    }\n",
              "\n",
              "    .colab-df-buttons div {\n",
              "      margin-bottom: 4px;\n",
              "    }\n",
              "\n",
              "    [theme=dark] .colab-df-convert {\n",
              "      background-color: #3B4455;\n",
              "      fill: #D2E3FC;\n",
              "    }\n",
              "\n",
              "    [theme=dark] .colab-df-convert:hover {\n",
              "      background-color: #434B5C;\n",
              "      box-shadow: 0px 1px 3px 1px rgba(0, 0, 0, 0.15);\n",
              "      filter: drop-shadow(0px 1px 2px rgba(0, 0, 0, 0.3));\n",
              "      fill: #FFFFFF;\n",
              "    }\n",
              "  </style>\n",
              "\n",
              "    <script>\n",
              "      const buttonEl =\n",
              "        document.querySelector('#df-f26c36c4-ff9c-4990-939e-eee218dd663f button.colab-df-convert');\n",
              "      buttonEl.style.display =\n",
              "        google.colab.kernel.accessAllowed ? 'block' : 'none';\n",
              "\n",
              "      async function convertToInteractive(key) {\n",
              "        const element = document.querySelector('#df-f26c36c4-ff9c-4990-939e-eee218dd663f');\n",
              "        const dataTable =\n",
              "          await google.colab.kernel.invokeFunction('convertToInteractive',\n",
              "                                                    [key], {});\n",
              "        if (!dataTable) return;\n",
              "\n",
              "        const docLinkHtml = 'Like what you see? Visit the ' +\n",
              "          '<a target=\"_blank\" href=https://colab.research.google.com/notebooks/data_table.ipynb>data table notebook</a>'\n",
              "          + ' to learn more about interactive tables.';\n",
              "        element.innerHTML = '';\n",
              "        dataTable['output_type'] = 'display_data';\n",
              "        await google.colab.output.renderOutput(dataTable, element);\n",
              "        const docLink = document.createElement('div');\n",
              "        docLink.innerHTML = docLinkHtml;\n",
              "        element.appendChild(docLink);\n",
              "      }\n",
              "    </script>\n",
              "  </div>\n",
              "\n",
              "\n",
              "<div id=\"df-cd3a65c2-596b-4195-b5ca-db12e9451a17\">\n",
              "  <button class=\"colab-df-quickchart\" onclick=\"quickchart('df-cd3a65c2-596b-4195-b5ca-db12e9451a17')\"\n",
              "            title=\"Suggest charts\"\n",
              "            style=\"display:none;\">\n",
              "\n",
              "<svg xmlns=\"http://www.w3.org/2000/svg\" height=\"24px\"viewBox=\"0 0 24 24\"\n",
              "     width=\"24px\">\n",
              "    <g>\n",
              "        <path d=\"M19 3H5c-1.1 0-2 .9-2 2v14c0 1.1.9 2 2 2h14c1.1 0 2-.9 2-2V5c0-1.1-.9-2-2-2zM9 17H7v-7h2v7zm4 0h-2V7h2v10zm4 0h-2v-4h2v4z\"/>\n",
              "    </g>\n",
              "</svg>\n",
              "  </button>\n",
              "\n",
              "<style>\n",
              "  .colab-df-quickchart {\n",
              "      --bg-color: #E8F0FE;\n",
              "      --fill-color: #1967D2;\n",
              "      --hover-bg-color: #E2EBFA;\n",
              "      --hover-fill-color: #174EA6;\n",
              "      --disabled-fill-color: #AAA;\n",
              "      --disabled-bg-color: #DDD;\n",
              "  }\n",
              "\n",
              "  [theme=dark] .colab-df-quickchart {\n",
              "      --bg-color: #3B4455;\n",
              "      --fill-color: #D2E3FC;\n",
              "      --hover-bg-color: #434B5C;\n",
              "      --hover-fill-color: #FFFFFF;\n",
              "      --disabled-bg-color: #3B4455;\n",
              "      --disabled-fill-color: #666;\n",
              "  }\n",
              "\n",
              "  .colab-df-quickchart {\n",
              "    background-color: var(--bg-color);\n",
              "    border: none;\n",
              "    border-radius: 50%;\n",
              "    cursor: pointer;\n",
              "    display: none;\n",
              "    fill: var(--fill-color);\n",
              "    height: 32px;\n",
              "    padding: 0;\n",
              "    width: 32px;\n",
              "  }\n",
              "\n",
              "  .colab-df-quickchart:hover {\n",
              "    background-color: var(--hover-bg-color);\n",
              "    box-shadow: 0 1px 2px rgba(60, 64, 67, 0.3), 0 1px 3px 1px rgba(60, 64, 67, 0.15);\n",
              "    fill: var(--button-hover-fill-color);\n",
              "  }\n",
              "\n",
              "  .colab-df-quickchart-complete:disabled,\n",
              "  .colab-df-quickchart-complete:disabled:hover {\n",
              "    background-color: var(--disabled-bg-color);\n",
              "    fill: var(--disabled-fill-color);\n",
              "    box-shadow: none;\n",
              "  }\n",
              "\n",
              "  .colab-df-spinner {\n",
              "    border: 2px solid var(--fill-color);\n",
              "    border-color: transparent;\n",
              "    border-bottom-color: var(--fill-color);\n",
              "    animation:\n",
              "      spin 1s steps(1) infinite;\n",
              "  }\n",
              "\n",
              "  @keyframes spin {\n",
              "    0% {\n",
              "      border-color: transparent;\n",
              "      border-bottom-color: var(--fill-color);\n",
              "      border-left-color: var(--fill-color);\n",
              "    }\n",
              "    20% {\n",
              "      border-color: transparent;\n",
              "      border-left-color: var(--fill-color);\n",
              "      border-top-color: var(--fill-color);\n",
              "    }\n",
              "    30% {\n",
              "      border-color: transparent;\n",
              "      border-left-color: var(--fill-color);\n",
              "      border-top-color: var(--fill-color);\n",
              "      border-right-color: var(--fill-color);\n",
              "    }\n",
              "    40% {\n",
              "      border-color: transparent;\n",
              "      border-right-color: var(--fill-color);\n",
              "      border-top-color: var(--fill-color);\n",
              "    }\n",
              "    60% {\n",
              "      border-color: transparent;\n",
              "      border-right-color: var(--fill-color);\n",
              "    }\n",
              "    80% {\n",
              "      border-color: transparent;\n",
              "      border-right-color: var(--fill-color);\n",
              "      border-bottom-color: var(--fill-color);\n",
              "    }\n",
              "    90% {\n",
              "      border-color: transparent;\n",
              "      border-bottom-color: var(--fill-color);\n",
              "    }\n",
              "  }\n",
              "</style>\n",
              "\n",
              "  <script>\n",
              "    async function quickchart(key) {\n",
              "      const quickchartButtonEl =\n",
              "        document.querySelector('#' + key + ' button');\n",
              "      quickchartButtonEl.disabled = true;  // To prevent multiple clicks.\n",
              "      quickchartButtonEl.classList.add('colab-df-spinner');\n",
              "      try {\n",
              "        const charts = await google.colab.kernel.invokeFunction(\n",
              "            'suggestCharts', [key], {});\n",
              "      } catch (error) {\n",
              "        console.error('Error during call to suggestCharts:', error);\n",
              "      }\n",
              "      quickchartButtonEl.classList.remove('colab-df-spinner');\n",
              "      quickchartButtonEl.classList.add('colab-df-quickchart-complete');\n",
              "    }\n",
              "    (() => {\n",
              "      let quickchartButtonEl =\n",
              "        document.querySelector('#df-cd3a65c2-596b-4195-b5ca-db12e9451a17 button');\n",
              "      quickchartButtonEl.style.display =\n",
              "        google.colab.kernel.accessAllowed ? 'block' : 'none';\n",
              "    })();\n",
              "  </script>\n",
              "</div>\n",
              "\n",
              "    </div>\n",
              "  </div>\n"
            ],
            "application/vnd.google.colaboratory.intrinsic+json": {
              "type": "dataframe",
              "variable_name": "predict",
              "summary": "{\n  \"name\": \"predict\",\n  \"rows\": 367,\n  \"fields\": [\n    {\n      \"column\": \"Loan_ID\",\n      \"properties\": {\n        \"dtype\": \"string\",\n        \"num_unique_values\": 367,\n        \"samples\": [\n          \"LP002070\",\n          \"LP001187\",\n          \"LP001099\"\n        ],\n        \"semantic_type\": \"\",\n        \"description\": \"\"\n      }\n    },\n    {\n      \"column\": \"Gender\",\n      \"properties\": {\n        \"dtype\": \"category\",\n        \"num_unique_values\": 2,\n        \"samples\": [\n          \"Female\",\n          \"Male\"\n        ],\n        \"semantic_type\": \"\",\n        \"description\": \"\"\n      }\n    },\n    {\n      \"column\": \"Married\",\n      \"properties\": {\n        \"dtype\": \"category\",\n        \"num_unique_values\": 2,\n        \"samples\": [\n          \"No\",\n          \"Yes\"\n        ],\n        \"semantic_type\": \"\",\n        \"description\": \"\"\n      }\n    },\n    {\n      \"column\": \"Dependents\",\n      \"properties\": {\n        \"dtype\": \"category\",\n        \"num_unique_values\": 4,\n        \"samples\": [\n          \"1\",\n          \"3+\"\n        ],\n        \"semantic_type\": \"\",\n        \"description\": \"\"\n      }\n    },\n    {\n      \"column\": \"Education\",\n      \"properties\": {\n        \"dtype\": \"category\",\n        \"num_unique_values\": 2,\n        \"samples\": [\n          \"Not Graduate\",\n          \"Graduate\"\n        ],\n        \"semantic_type\": \"\",\n        \"description\": \"\"\n      }\n    },\n    {\n      \"column\": \"Self_Employed\",\n      \"properties\": {\n        \"dtype\": \"category\",\n        \"num_unique_values\": 2,\n        \"samples\": [\n          \"Yes\",\n          \"No\"\n        ],\n        \"semantic_type\": \"\",\n        \"description\": \"\"\n      }\n    },\n    {\n      \"column\": \"ApplicantIncome\",\n      \"properties\": {\n        \"dtype\": \"number\",\n        \"std\": 4910,\n        \"min\": 0,\n        \"max\": 72529,\n        \"num_unique_values\": 314,\n        \"samples\": [\n          6794,\n          2783\n        ],\n        \"semantic_type\": \"\",\n        \"description\": \"\"\n      }\n    },\n    {\n      \"column\": \"CoapplicantIncome\",\n      \"properties\": {\n        \"dtype\": \"number\",\n        \"std\": 2334,\n        \"min\": 0,\n        \"max\": 24000,\n        \"num_unique_values\": 194,\n        \"samples\": [\n          3725,\n          833\n        ],\n        \"semantic_type\": \"\",\n        \"description\": \"\"\n      }\n    },\n    {\n      \"column\": \"LoanAmount\",\n      \"properties\": {\n        \"dtype\": \"number\",\n        \"std\": 61.36665239301822,\n        \"min\": 28.0,\n        \"max\": 550.0,\n        \"num_unique_values\": 144,\n        \"samples\": [\n          112.0,\n          28.0\n        ],\n        \"semantic_type\": \"\",\n        \"description\": \"\"\n      }\n    },\n    {\n      \"column\": \"Loan_Amount_Term\",\n      \"properties\": {\n        \"dtype\": \"number\",\n        \"std\": 65.15664341399702,\n        \"min\": 6.0,\n        \"max\": 480.0,\n        \"num_unique_values\": 12,\n        \"samples\": [\n          120.0,\n          36.0\n        ],\n        \"semantic_type\": \"\",\n        \"description\": \"\"\n      }\n    },\n    {\n      \"column\": \"Credit_History\",\n      \"properties\": {\n        \"dtype\": \"number\",\n        \"std\": 0.38014983549147024,\n        \"min\": 0.0,\n        \"max\": 1.0,\n        \"num_unique_values\": 2,\n        \"samples\": [\n          0.0,\n          1.0\n        ],\n        \"semantic_type\": \"\",\n        \"description\": \"\"\n      }\n    },\n    {\n      \"column\": \"Property_Area\",\n      \"properties\": {\n        \"dtype\": \"category\",\n        \"num_unique_values\": 3,\n        \"samples\": [\n          \"Urban\",\n          \"Semiurban\"\n        ],\n        \"semantic_type\": \"\",\n        \"description\": \"\"\n      }\n    }\n  ]\n}"
            }
          },
          "metadata": {},
          "execution_count": 506
        }
      ]
    },
    {
      "cell_type": "code",
      "source": [
        "train.info()"
      ],
      "metadata": {
        "id": "NcGFwgscpMc-",
        "colab": {
          "base_uri": "https://localhost:8080/"
        },
        "outputId": "5166810c-7e1b-423d-a6aa-cfaf3fb1d124"
      },
      "execution_count": null,
      "outputs": [
        {
          "output_type": "stream",
          "name": "stdout",
          "text": [
            "<class 'pandas.core.frame.DataFrame'>\n",
            "RangeIndex: 614 entries, 0 to 613\n",
            "Data columns (total 13 columns):\n",
            " #   Column             Non-Null Count  Dtype  \n",
            "---  ------             --------------  -----  \n",
            " 0   Loan_ID            614 non-null    object \n",
            " 1   Gender             601 non-null    object \n",
            " 2   Married            611 non-null    object \n",
            " 3   Dependents         599 non-null    object \n",
            " 4   Education          614 non-null    object \n",
            " 5   Self_Employed      582 non-null    object \n",
            " 6   ApplicantIncome    614 non-null    int64  \n",
            " 7   CoapplicantIncome  614 non-null    float64\n",
            " 8   LoanAmount         592 non-null    float64\n",
            " 9   Loan_Amount_Term   600 non-null    float64\n",
            " 10  Credit_History     564 non-null    float64\n",
            " 11  Property_Area      614 non-null    object \n",
            " 12  Loan_Status        614 non-null    object \n",
            "dtypes: float64(4), int64(1), object(8)\n",
            "memory usage: 62.5+ KB\n"
          ]
        }
      ]
    },
    {
      "cell_type": "code",
      "source": [
        "train['Credit_History'].unique()"
      ],
      "metadata": {
        "colab": {
          "base_uri": "https://localhost:8080/"
        },
        "id": "c3Agf8tv8fBe",
        "outputId": "5b767679-e6be-49bb-c40f-c65ad489d4fa"
      },
      "execution_count": null,
      "outputs": [
        {
          "output_type": "execute_result",
          "data": {
            "text/plain": [
              "array([ 1.,  0., nan])"
            ]
          },
          "metadata": {},
          "execution_count": 547
        }
      ]
    },
    {
      "cell_type": "code",
      "source": [
        "train=train.drop(columns=['Loan_ID'])\n",
        "predict=predict.drop(columns=['Loan_ID'])"
      ],
      "metadata": {
        "id": "xgg-t8vEBhs5"
      },
      "execution_count": null,
      "outputs": []
    },
    {
      "cell_type": "code",
      "source": [
        "train_knn = train.copy()\n",
        "label_encoders = {}\n",
        "for column in train_knn.select_dtypes(include=['object']).columns:\n",
        "  if column != 'Loan_ID':\n",
        "    le = LabelEncoder()\n",
        "    train_knn[column] = train_knn[column].astype(str)\n",
        "    train_knn[column] = le.fit_transform(train_knn[column])\n",
        "    label_encoders[column] = le\n",
        "knn_imputer = KNNImputer(n_neighbors=5)\n",
        "train_knn_filled = pd.DataFrame(knn_imputer.fit_transform(train_knn), columns=train_knn.columns)\n",
        "for column in label_encoders:\n",
        "    le = label_encoders[column]\n",
        "    train_knn_filled[column] = le.inverse_transform(train_knn_filled[column].astype(int))"
      ],
      "metadata": {
        "id": "TlB_6IttB4jv"
      },
      "execution_count": null,
      "outputs": []
    },
    {
      "cell_type": "code",
      "source": [
        "train_knn_filled.isnull().sum()"
      ],
      "metadata": {
        "colab": {
          "base_uri": "https://localhost:8080/"
        },
        "id": "I2HRmqHiDuno",
        "outputId": "01055c16-5599-45fd-fa0e-1401d30b9121"
      },
      "execution_count": null,
      "outputs": [
        {
          "output_type": "execute_result",
          "data": {
            "text/plain": [
              "Gender               0\n",
              "Married              0\n",
              "Dependents           0\n",
              "Education            0\n",
              "Self_Employed        0\n",
              "ApplicantIncome      0\n",
              "CoapplicantIncome    0\n",
              "LoanAmount           0\n",
              "Loan_Amount_Term     0\n",
              "Credit_History       0\n",
              "Property_Area        0\n",
              "Loan_Status          0\n",
              "dtype: int64"
            ]
          },
          "metadata": {},
          "execution_count": 510
        }
      ]
    },
    {
      "cell_type": "markdown",
      "source": [
        "##EDA"
      ],
      "metadata": {
        "id": "bI_kf3jUR4UJ"
      }
    },
    {
      "cell_type": "code",
      "source": [
        "train_knn_filled.hist(figsize=(10,6))"
      ],
      "metadata": {
        "colab": {
          "base_uri": "https://localhost:8080/",
          "height": 649
        },
        "id": "otc1NFO8R5va",
        "outputId": "6055932b-7587-40cc-9dfd-443d30a98f6e"
      },
      "execution_count": null,
      "outputs": [
        {
          "output_type": "execute_result",
          "data": {
            "text/plain": [
              "array([[<Axes: title={'center': 'ApplicantIncome'}>,\n",
              "        <Axes: title={'center': 'CoapplicantIncome'}>],\n",
              "       [<Axes: title={'center': 'LoanAmount'}>,\n",
              "        <Axes: title={'center': 'Loan_Amount_Term'}>],\n",
              "       [<Axes: title={'center': 'Credit_History'}>, <Axes: >]],\n",
              "      dtype=object)"
            ]
          },
          "metadata": {},
          "execution_count": 469
        },
        {
          "output_type": "display_data",
          "data": {
            "text/plain": [
              "<Figure size 1000x600 with 6 Axes>"
            ],
            "image/png": "[encoded data removed]"
          },
          "metadata": {}
        }
      ]
    },
    {
      "cell_type": "code",
      "source": [
        "train_knn_filled.info()"
      ],
      "metadata": {
        "colab": {
          "base_uri": "https://localhost:8080/"
        },
        "id": "u-vqn8DiY1o9",
        "outputId": "3709eea9-3877-4dd9-8c1f-00f5f4d85797"
      },
      "execution_count": null,
      "outputs": [
        {
          "output_type": "stream",
          "name": "stdout",
          "text": [
            "<class 'pandas.core.frame.DataFrame'>\n",
            "RangeIndex: 614 entries, 0 to 613\n",
            "Data columns (total 12 columns):\n",
            " #   Column             Non-Null Count  Dtype  \n",
            "---  ------             --------------  -----  \n",
            " 0   Gender             614 non-null    object \n",
            " 1   Married            614 non-null    object \n",
            " 2   Dependents         614 non-null    object \n",
            " 3   Education          614 non-null    object \n",
            " 4   Self_Employed      614 non-null    object \n",
            " 5   ApplicantIncome    614 non-null    float64\n",
            " 6   CoapplicantIncome  614 non-null    float64\n",
            " 7   LoanAmount         614 non-null    float64\n",
            " 8   Loan_Amount_Term   614 non-null    float64\n",
            " 9   Credit_History     614 non-null    float64\n",
            " 10  Property_Area      614 non-null    object \n",
            " 11  Loan_Status        614 non-null    object \n",
            "dtypes: float64(5), object(7)\n",
            "memory usage: 57.7+ KB\n"
          ]
        }
      ]
    },
    {
      "cell_type": "code",
      "source": [
        "train_knn_filled['Loan_Status'].hist()"
      ],
      "metadata": {
        "colab": {
          "base_uri": "https://localhost:8080/",
          "height": 447
        },
        "id": "x10OM-JYdJK_",
        "outputId": "b62140da-fc3c-4eb9-c952-2570bc7f9edd"
      },
      "execution_count": null,
      "outputs": [
        {
          "output_type": "execute_result",
          "data": {
            "text/plain": [
              "<Axes: >"
            ]
          },
          "metadata": {},
          "execution_count": 471
        },
        {
          "output_type": "display_data",
          "data": {
            "text/plain": [
              "<Figure size 640x480 with 1 Axes>"
            ],
            "image/png": "[encoded data removed]"
          },
          "metadata": {}
        }
      ]
    },
    {
      "cell_type": "code",
      "source": [
        "dfn = train_knn_filled.groupby(['Loan_Status','Education']).count().unstack('Loan_Status')\n",
        "dfn['Gender'].plot(kind='barh',color=sns.palettes.mpl_palette('Dark2'))\n",
        "plt.title('Loan Status and Education')"
      ],
      "metadata": {
        "colab": {
          "base_uri": "https://localhost:8080/",
          "height": 469
        },
        "id": "PcNnq5efet_A",
        "outputId": "a7fcabf2-c5f0-43b9-fa47-e433b1f27c69"
      },
      "execution_count": null,
      "outputs": [
        {
          "output_type": "execute_result",
          "data": {
            "text/plain": [
              "Text(0.5, 1.0, 'Loan Status and Education')"
            ]
          },
          "metadata": {},
          "execution_count": 472
        },
        {
          "output_type": "display_data",
          "data": {
            "text/plain": [
              "<Figure size 640x480 with 1 Axes>"
            ],
            "image/png": "[encoded data removed]"
          },
          "metadata": {}
        }
      ]
    },
    {
      "cell_type": "code",
      "source": [
        "dfn = train_knn_filled\n",
        "dfn['Total_Income']=dfn['ApplicantIncome']+dfn['CoapplicantIncome']\n",
        "dfn['Total_Income'].describe()"
      ],
      "metadata": {
        "colab": {
          "base_uri": "https://localhost:8080/"
        },
        "id": "WbojjbA-mY1w",
        "outputId": "659ce63c-7da5-4404-9677-f97fcb9a4a5b"
      },
      "execution_count": null,
      "outputs": [
        {
          "output_type": "execute_result",
          "data": {
            "text/plain": [
              "count      614.000000\n",
              "mean      7024.705081\n",
              "std       6458.663872\n",
              "min       1442.000000\n",
              "25%       4166.000000\n",
              "50%       5416.500000\n",
              "75%       7521.750000\n",
              "max      81000.000000\n",
              "Name: Total_Income, dtype: float64"
            ]
          },
          "metadata": {},
          "execution_count": 473
        }
      ]
    },
    {
      "cell_type": "code",
      "source": [
        "dfn['income_group']=dfn['Total_Income'].apply(lambda x:str(round(x,-4))+' '+'to'+' '+str(round(x,-4)+10000))"
      ],
      "metadata": {
        "id": "EJXZlZSLqtAJ"
      },
      "execution_count": null,
      "outputs": []
    },
    {
      "cell_type": "code",
      "source": [
        "dfn['income_group'].hist(figsize=(15,6))"
      ],
      "metadata": {
        "colab": {
          "base_uri": "https://localhost:8080/",
          "height": 539
        },
        "id": "bDOZ7BzutLGY",
        "outputId": "24979c46-2b8d-490b-f1e5-afa0aea58a48"
      },
      "execution_count": null,
      "outputs": [
        {
          "output_type": "execute_result",
          "data": {
            "text/plain": [
              "<Axes: >"
            ]
          },
          "metadata": {},
          "execution_count": 475
        },
        {
          "output_type": "display_data",
          "data": {
            "text/plain": [
              "<Figure size 1500x600 with 1 Axes>"
            ],
            "image/png": "[encoded data removed]"
          },
          "metadata": {}
        }
      ]
    },
    {
      "cell_type": "code",
      "source": [
        "dfn = dfn.groupby(['Loan_Status','income_group']).count().unstack('Loan_Status')\n",
        "dfn['Gender'].plot(kind='barh',color=sns.palettes.mpl_palette('Dark2'))\n",
        "plt.title('Loan Status and Total Income')"
      ],
      "metadata": {
        "colab": {
          "base_uri": "https://localhost:8080/",
          "height": 469
        },
        "id": "2lD8pcXinLAD",
        "outputId": "60402297-4eb0-4b29-eb58-dbb3900c73c9"
      },
      "execution_count": null,
      "outputs": [
        {
          "output_type": "execute_result",
          "data": {
            "text/plain": [
              "Text(0.5, 1.0, 'Loan Status and Total Income')"
            ]
          },
          "metadata": {},
          "execution_count": 476
        },
        {
          "output_type": "display_data",
          "data": {
            "text/plain": [
              "<Figure size 640x480 with 1 Axes>"
            ],
            "image/png": "[encoded data removed]"
          },
          "metadata": {}
        }
      ]
    },
    {
      "cell_type": "code",
      "source": [
        "dfn = train_knn_filled.groupby(['Loan_Status','Credit_History']).count().unstack('Loan_Status')\n",
        "dfn['Gender'].plot(kind='barh',color=sns.palettes.mpl_palette('Dark2'))\n",
        "plt.title('Loan Status and Credit History')"
      ],
      "metadata": {
        "colab": {
          "base_uri": "https://localhost:8080/",
          "height": 469
        },
        "id": "0IWW6miRs9Hg",
        "outputId": "65439368-f6ed-41d6-c7f6-605ff47bc580"
      },
      "execution_count": null,
      "outputs": [
        {
          "output_type": "execute_result",
          "data": {
            "text/plain": [
              "Text(0.5, 1.0, 'Loan Status and Credit History')"
            ]
          },
          "metadata": {},
          "execution_count": 477
        },
        {
          "output_type": "display_data",
          "data": {
            "text/plain": [
              "<Figure size 640x480 with 1 Axes>"
            ],
            "image/png": "[encoded data removed]"
          },
          "metadata": {}
        }
      ]
    },
    {
      "cell_type": "code",
      "source": [
        "dfn=train_knn_filled\n",
        "dfn['Dependents']=dfn['Dependents'].apply(lambda x:x.replace('3+','3'))"
      ],
      "metadata": {
        "id": "-dTNSdOOyPNC"
      },
      "execution_count": null,
      "outputs": []
    },
    {
      "cell_type": "code",
      "source": [
        "\n",
        "sns.heatmap(dfn[['ApplicantIncome','CoapplicantIncome','LoanAmount','Loan_Amount_Term','Dependents']].corr(), vmax=0.8, square=True, cmap='BuPu')"
      ],
      "metadata": {
        "colab": {
          "base_uri": "https://localhost:8080/",
          "height": 574
        },
        "id": "h8brWvN_udBX",
        "outputId": "9b7da8da-e343-4589-ee3f-4fd760e5936b"
      },
      "execution_count": null,
      "outputs": [
        {
          "output_type": "execute_result",
          "data": {
            "text/plain": [
              "<Axes: >"
            ]
          },
          "metadata": {},
          "execution_count": 488
        },
        {
          "output_type": "display_data",
          "data": {
            "text/plain": [
              "<Figure size 640x480 with 2 Axes>"
            ],
            "image/png": "[encoded data removed]"
          },
          "metadata": {}
        }
      ]
    },
    {
      "cell_type": "markdown",
      "source": [
        "##Preparation#2"
      ],
      "metadata": {
        "id": "k5rJ7TG3G33G"
      }
    },
    {
      "cell_type": "code",
      "source": [
        "traindf=train_knn_filled"
      ],
      "metadata": {
        "id": "n8WSqK9yRU8S"
      },
      "execution_count": null,
      "outputs": []
    },
    {
      "cell_type": "code",
      "source": [
        "traindf.info()"
      ],
      "metadata": {
        "colab": {
          "base_uri": "https://localhost:8080/"
        },
        "id": "JwXNbXrbHF20",
        "outputId": "14d77c12-bbff-409e-b63e-549a65593e08"
      },
      "execution_count": null,
      "outputs": [
        {
          "output_type": "stream",
          "name": "stdout",
          "text": [
            "<class 'pandas.core.frame.DataFrame'>\n",
            "RangeIndex: 614 entries, 0 to 613\n",
            "Data columns (total 12 columns):\n",
            " #   Column             Non-Null Count  Dtype  \n",
            "---  ------             --------------  -----  \n",
            " 0   Gender             614 non-null    object \n",
            " 1   Married            614 non-null    object \n",
            " 2   Dependents         614 non-null    object \n",
            " 3   Education          614 non-null    object \n",
            " 4   Self_Employed      614 non-null    object \n",
            " 5   ApplicantIncome    614 non-null    float64\n",
            " 6   CoapplicantIncome  614 non-null    float64\n",
            " 7   LoanAmount         614 non-null    float64\n",
            " 8   Loan_Amount_Term   614 non-null    float64\n",
            " 9   Credit_History     614 non-null    float64\n",
            " 10  Property_Area      614 non-null    object \n",
            " 11  Loan_Status        614 non-null    object \n",
            "dtypes: float64(5), object(7)\n",
            "memory usage: 57.7+ KB\n"
          ]
        }
      ]
    },
    {
      "cell_type": "code",
      "source": [
        "#for numerical variables\n",
        "nvar_list = ['ApplicantIncome','CoapplicantIncome','LoanAmount','Loan_Amount_Term']\n",
        "#for categorical variables\n",
        "cvar_list = ['Gender','Married','Education','Self_Employed','Credit_History','Property_Area','Dependents']\n",
        "\n",
        "traindf[nvar_list] = traindf[nvar_list].astype('float64')\n",
        "traindf[cvar_list] = traindf[cvar_list].astype('category')"
      ],
      "metadata": {
        "id": "g4jsdFwyG5zi"
      },
      "execution_count": null,
      "outputs": []
    },
    {
      "cell_type": "code",
      "source": [
        "traindf[nvar_list] = (traindf[nvar_list] - traindf[nvar_list].mean()) / traindf[nvar_list].std() #standardize numerical variables"
      ],
      "metadata": {
        "id": "hO5RrPE_G6w-"
      },
      "execution_count": null,
      "outputs": []
    },
    {
      "cell_type": "markdown",
      "source": [
        "##Classification Tree"
      ],
      "metadata": {
        "id": "p65wvGZVenPe"
      }
    },
    {
      "cell_type": "code",
      "source": [
        "# Required package: scikit-learn. Package name in Python: sklearn\n",
        "# Required subpackage: model_selection. Required function name: train_test_split\n",
        "from sklearn.model_selection import train_test_split\n",
        "\n",
        "# Placeholder variables: df4partition, testpart_size\n",
        "# test_size specifies the percentage for the test partition\n",
        "testpart_size = 0.2\n",
        "\n",
        "# random_state specifies the seed for random number generator.\n",
        "# random_state = 1 unless otherwised noted\n",
        "df_nontestData, df_testData = train_test_split(traindf, test_size=testpart_size, random_state=1)"
      ],
      "metadata": {
        "id": "fBicUBdDqR9H"
      },
      "execution_count": null,
      "outputs": []
    },
    {
      "cell_type": "code",
      "source": [
        "# Classification tree\n",
        "\n",
        "# Required package: scikit-learn. Package name in Python: sklearn\n",
        "# Required subpackage: tree\n",
        "# Required function name: DecisionTreeClassifier\n",
        "from sklearn.tree import DecisionTreeClassifier\n",
        "\n",
        "\n",
        "# Separate the predictor values and the DV values into X and y respectively\n",
        "# Placeholder variable: DV\n",
        "DV = 'Loan_Status'\n",
        "y = df_nontestData[DV]\n",
        "X = df_nontestData.drop(columns=[DV])\n",
        "\n",
        "X=pd.get_dummies(X)\n",
        "\n",
        "from sklearn.tree import export_graphviz\n",
        "from io import StringIO\n",
        "import pydotplus\n",
        "from IPython.display import Image\n",
        "\n",
        "# A user-defined function summary_tree to display a classification tree\n",
        "def summary_tree(model_object):\n",
        "  dot_data = StringIO()\n",
        "  export_graphviz(model_object, out_file=dot_data, filled=True,\n",
        "                  rounded=True, special_characters=True, feature_names=X.columns.values,\n",
        "                  class_names=['0', '1'])\n",
        "  graph = pydotplus.graph_from_dot_data(dot_data.getvalue())\n",
        "  output_imagefile = 'tree.png'\n",
        "  graph.write_png(output_imagefile)\n",
        "  return output_imagefile"
      ],
      "metadata": {
        "id": "ypYGKbLAzctb"
      },
      "execution_count": null,
      "outputs": []
    },
    {
      "cell_type": "code",
      "source": [
        "# Here we specify within which range of depths we will search for the best pruned tree\n",
        "kfolds = 5\n",
        "maximum_depth = 50\n",
        "minimum_depth = 1\n",
        "param_grid = {'max_depth': list(range(minimum_depth, maximum_depth+1))}\n",
        "\n",
        "from sklearn.model_selection import GridSearchCV\n",
        "\n",
        "gridsearch = GridSearchCV(DecisionTreeClassifier(criterion='entropy', random_state=1), param_grid, scoring='roc_auc', cv=kfolds, n_jobs=-1)\n",
        "gridsearch.fit(X,y)\n",
        "clf_BPT = gridsearch.best_estimator_\n",
        "\n",
        "Image(summary_tree(clf_BPT))"
      ],
      "metadata": {
        "colab": {
          "base_uri": "https://localhost:8080/",
          "height": 753
        },
        "id": "ei68sHfFzplz",
        "outputId": "b11dd413-fe2f-42bc-d3c3-e50d6edc4de3"
      },
      "execution_count": null,
      "outputs": [
        {
          "output_type": "execute_result",
          "data": {
            "image/png": "[encoded data removed]",
            "text/plain": [
              "<IPython.core.display.Image object>"
            ]
          },
          "metadata": {},
          "execution_count": 517
        }
      ]
    },
    {
      "cell_type": "code",
      "source": [
        "# Display the level of depth of the best pruned tree\n",
        "print(clf_BPT.get_depth())\n",
        "\n",
        "# y_test_actual is the actual values of the DV in the test partition\n",
        "y_test_actual = df_testData[DV]\n",
        "\n",
        "# X_test is the predictor values in the test partition\n",
        "X_test = df_testData.drop(columns=[DV])\n",
        "X_test=pd.get_dummies(X_test)"
      ],
      "metadata": {
        "colab": {
          "base_uri": "https://localhost:8080/"
        },
        "id": "V8hmHjzszrWB",
        "outputId": "34e01ec0-552a-4635-aae0-7b275110640a"
      },
      "execution_count": null,
      "outputs": [
        {
          "output_type": "stream",
          "name": "stdout",
          "text": [
            "4\n"
          ]
        }
      ]
    },
    {
      "cell_type": "code",
      "source": [
        "from sklearn.metrics import roc_auc_score, classification_report\n",
        "print(roc_auc_score(y_test_actual, clf_BPT.predict_proba(X_test)[:,1]))"
      ],
      "metadata": {
        "colab": {
          "base_uri": "https://localhost:8080/"
        },
        "id": "cpMO59xU3lQR",
        "outputId": "6afb7163-1605-409a-bf61-f3b3ef117a16"
      },
      "execution_count": null,
      "outputs": [
        {
          "output_type": "stream",
          "name": "stdout",
          "text": [
            "0.753052503052503\n"
          ]
        }
      ]
    },
    {
      "cell_type": "code",
      "source": [
        "from sklearn import metrics\n",
        "metrics.confusion_matrix(y_test_actual, clf_BPT.predict(X_test))"
      ],
      "metadata": {
        "id": "eIZ5i67P-89q",
        "colab": {
          "base_uri": "https://localhost:8080/"
        },
        "outputId": "d0e3aceb-9978-4ca8-81e4-9f3a7b15deec"
      },
      "execution_count": null,
      "outputs": [
        {
          "output_type": "execute_result",
          "data": {
            "text/plain": [
              "array([[16, 23],\n",
              "       [ 1, 83]])"
            ]
          },
          "metadata": {},
          "execution_count": 527
        }
      ]
    },
    {
      "cell_type": "code",
      "source": [
        "#Accuracy\n",
        "clf_BPT.score(X_test, y_test_actual)"
      ],
      "metadata": {
        "id": "aghHHzgf--o_",
        "colab": {
          "base_uri": "https://localhost:8080/"
        },
        "outputId": "bb96b1ae-3d80-4934-878f-6632b777bb83"
      },
      "execution_count": null,
      "outputs": [
        {
          "output_type": "execute_result",
          "data": {
            "text/plain": [
              "0.8048780487804879"
            ]
          },
          "metadata": {},
          "execution_count": 528
        }
      ]
    },
    {
      "cell_type": "code",
      "source": [
        "print(classification_report(y_test_actual, clf_BPT.predict(X_test)))"
      ],
      "metadata": {
        "id": "jA6btk3aAWle",
        "colab": {
          "base_uri": "https://localhost:8080/"
        },
        "outputId": "b39079ad-2836-4a95-9972-bc411f908310"
      },
      "execution_count": null,
      "outputs": [
        {
          "output_type": "stream",
          "name": "stdout",
          "text": [
            "              precision    recall  f1-score   support\n",
            "\n",
            "           N       0.94      0.41      0.57        39\n",
            "           Y       0.78      0.99      0.87        84\n",
            "\n",
            "    accuracy                           0.80       123\n",
            "   macro avg       0.86      0.70      0.72       123\n",
            "weighted avg       0.83      0.80      0.78       123\n",
            "\n"
          ]
        }
      ]
    },
    {
      "cell_type": "code",
      "source": [
        "#feature_importances\n",
        "feature_importances = clf_BPT.feature_importances_"
      ],
      "metadata": {
        "id": "dQnPciiZ_d7-"
      },
      "execution_count": null,
      "outputs": []
    },
    {
      "cell_type": "code",
      "source": [
        "feature_names = X.columns\n",
        "importance_df = pd.DataFrame({'Feature': feature_names, 'Importance': feature_importances})\n",
        "\n",
        "# Sort the DataFrame by importance\n",
        "importance_df = importance_df.sort_values(by='Importance', ascending=False)\n",
        "\n",
        "print(importance_df)"
      ],
      "metadata": {
        "id": "yrXr7bZWEOPE",
        "colab": {
          "base_uri": "https://localhost:8080/"
        },
        "outputId": "f847fb6a-c0ce-4bde-9fd4-55e2664141c7"
      },
      "execution_count": null,
      "outputs": [
        {
          "output_type": "stream",
          "name": "stdout",
          "text": [
            "                    Feature  Importance\n",
            "20       Credit_History_0.0    0.733169\n",
            "1         CoapplicantIncome    0.070768\n",
            "26  Property_Area_Semiurban    0.056134\n",
            "2                LoanAmount    0.052150\n",
            "3          Loan_Amount_Term    0.044294\n",
            "0           ApplicantIncome    0.043485\n",
            "16   Education_Not Graduate    0.000000\n",
            "25      Property_Area_Rural    0.000000\n",
            "24       Credit_History_1.0    0.000000\n",
            "23       Credit_History_0.8    0.000000\n",
            "22       Credit_History_0.6    0.000000\n",
            "21       Credit_History_0.4    0.000000\n",
            "19        Self_Employed_nan    0.000000\n",
            "18        Self_Employed_Yes    0.000000\n",
            "17         Self_Employed_No    0.000000\n",
            "14           Dependents_nan    0.000000\n",
            "15       Education_Graduate    0.000000\n",
            "13            Dependents_3+    0.000000\n",
            "12             Dependents_2    0.000000\n",
            "11             Dependents_1    0.000000\n",
            "10             Dependents_0    0.000000\n",
            "9               Married_nan    0.000000\n",
            "8               Married_Yes    0.000000\n",
            "7                Married_No    0.000000\n",
            "6                Gender_nan    0.000000\n",
            "5               Gender_Male    0.000000\n",
            "4             Gender_Female    0.000000\n",
            "27      Property_Area_Urban    0.000000\n"
          ]
        }
      ]
    },
    {
      "cell_type": "markdown",
      "source": [
        "##Logistic Regression"
      ],
      "metadata": {
        "id": "IG5D2SKmF8Pd"
      }
    },
    {
      "cell_type": "code",
      "source": [
        "from sklearn.linear_model import LogisticRegression, LogisticRegressionCV\n",
        "\n",
        "# Separate the predictor values and the DV values into X and y respectively\n",
        "# Placeholder variable: DV\n",
        "DV = 'Loan_Status'\n",
        "y = df_nontestData[DV]\n",
        "X = df_nontestData.drop(columns=[DV])\n",
        "X = pd.get_dummies(X)\n",
        "\n",
        "# Run Logistic regression with pre-specified penalty level (alpha)\n",
        "# Placeholder variable: alpha\n",
        "alpha = 10\n",
        "\n",
        "# The Logistic regression results are put into a model object clf\n",
        "clf = LogisticRegression(C=1/alpha, penalty='l1', solver='saga', max_iter=200, random_state=1).fit(X,y)\n",
        "\n",
        "# A user-defined function summary_coef\n",
        "# to display the estimated coefficients of a model candidate obtained by the Logistic Regression analysis\n",
        "def summary_coef(model_object):\n",
        "  n_predictors = X.shape[1]\n",
        "  model_coef = pd.DataFrame(model_object.coef_.reshape(1, n_predictors), columns=X.columns.values)\n",
        "  model_coef['Intercept'] = model_object.intercept_\n",
        "  return model_coef.transpose()\n",
        "\n",
        "print(summary_coef(clf))\n"
      ],
      "metadata": {
        "colab": {
          "base_uri": "https://localhost:8080/"
        },
        "id": "ZbdmT3S1GAYw",
        "outputId": "734b1f01-8b39-4f33-e52e-e1e175ac2e87"
      },
      "execution_count": null,
      "outputs": [
        {
          "output_type": "stream",
          "name": "stdout",
          "text": [
            "                                0\n",
            "ApplicantIncome          0.000000\n",
            "CoapplicantIncome       -0.057943\n",
            "LoanAmount               0.000000\n",
            "Loan_Amount_Term         0.000000\n",
            "Gender_Female            0.000000\n",
            "Gender_Male              0.000000\n",
            "Gender_nan               0.000000\n",
            "Married_No               0.000000\n",
            "Married_Yes              0.000000\n",
            "Married_nan              0.000000\n",
            "Dependents_0             0.000000\n",
            "Dependents_1             0.000000\n",
            "Dependents_2             0.000000\n",
            "Dependents_3+            0.000000\n",
            "Dependents_nan           0.000000\n",
            "Education_Graduate       0.000000\n",
            "Education_Not Graduate   0.000000\n",
            "Self_Employed_No         0.000000\n",
            "Self_Employed_Yes        0.000000\n",
            "Self_Employed_nan        0.000000\n",
            "Credit_History_0.0      -2.216572\n",
            "Credit_History_0.4       0.000000\n",
            "Credit_History_0.6       0.000000\n",
            "Credit_History_0.8       0.000000\n",
            "Credit_History_1.0       0.243738\n",
            "Property_Area_Rural      0.000000\n",
            "Property_Area_Semiurban  0.216409\n",
            "Property_Area_Urban      0.000000\n",
            "Intercept                0.894688\n"
          ]
        },
        {
          "output_type": "stream",
          "name": "stderr",
          "text": [
            "/usr/local/lib/python3.10/dist-packages/sklearn/linear_model/_sag.py:350: ConvergenceWarning: The max_iter was reached which means the coef_ did not converge\n",
            "  warnings.warn(\n"
          ]
        }
      ]
    },
    {
      "cell_type": "code",
      "source": [
        "# Run Logistic regression with k-fold cross validation with k=5\n",
        "# Placeholder variable: kfolds\n",
        "kfolds = 5\n",
        "\n",
        "# Here we specify within which range of the penalty levels we will search for the optimal penalty level,\n",
        "# i.e., the level that leads to the best model candidate\n",
        "# We search the optimal alpha within [min_alpha, max_alpha]\n",
        "min_alpha = 0.02\n",
        "max_alpha = 50\n",
        "\n",
        "# C is the inverse of alpha. LogisticRegression and LogisticRegressionCV require inverse alpha\n",
        "# as the parameter values for specifying penalty levels\n",
        "max_C = 1/min_alpha\n",
        "min_C = 1/max_alpha\n",
        "\n",
        "# We further discretize the continuous C range [min_C, max_C] into n individual points of C\n",
        "# We train n model candidates each of which corresponds to one individual C point\n",
        "n_candidates = 50\n",
        "\n",
        "# We store the list of individual C points into C_list\n",
        "C_list = list(np.linspace(min_C, max_C, num=n_candidates))\n",
        "\n",
        "clf_optimal = LogisticRegressionCV(Cs=C_list, cv=kfolds, scoring='roc_auc', penalty='l1', solver='saga', max_iter=100, random_state=1, n_jobs=-1).fit(X,y)\n",
        "\n",
        "# Display the estimated coefficients of the final selected model\n",
        "print(summary_coef(clf_optimal))\n",
        "\n",
        "# Display the optimal alpha that yields the final selected model (the best model candidate)\n",
        "print(1/clf_optimal.C_)\n"
      ],
      "metadata": {
        "colab": {
          "base_uri": "https://localhost:8080/"
        },
        "id": "Z1XQqnduRYzE",
        "outputId": "9bad9155-a877-4678-b27d-fefd38bf8502"
      },
      "execution_count": null,
      "outputs": [
        {
          "output_type": "stream",
          "name": "stderr",
          "text": [
            "/usr/local/lib/python3.10/dist-packages/sklearn/linear_model/_sag.py:350: ConvergenceWarning: The max_iter was reached which means the coef_ did not converge\n",
            "  warnings.warn(\n",
            "/usr/local/lib/python3.10/dist-packages/sklearn/linear_model/_sag.py:350: ConvergenceWarning: The max_iter was reached which means the coef_ did not converge\n",
            "  warnings.warn(\n",
            "/usr/local/lib/python3.10/dist-packages/sklearn/linear_model/_sag.py:350: ConvergenceWarning: The max_iter was reached which means the coef_ did not converge\n",
            "  warnings.warn(\n",
            "/usr/local/lib/python3.10/dist-packages/sklearn/linear_model/_sag.py:350: ConvergenceWarning: The max_iter was reached which means the coef_ did not converge\n",
            "  warnings.warn(\n",
            "/usr/local/lib/python3.10/dist-packages/sklearn/linear_model/_sag.py:350: ConvergenceWarning: The max_iter was reached which means the coef_ did not converge\n",
            "  warnings.warn(\n",
            "/usr/local/lib/python3.10/dist-packages/sklearn/linear_model/_sag.py:350: ConvergenceWarning: The max_iter was reached which means the coef_ did not converge\n",
            "  warnings.warn(\n",
            "/usr/local/lib/python3.10/dist-packages/sklearn/linear_model/_sag.py:350: ConvergenceWarning: The max_iter was reached which means the coef_ did not converge\n",
            "  warnings.warn(\n",
            "/usr/local/lib/python3.10/dist-packages/sklearn/linear_model/_sag.py:350: ConvergenceWarning: The max_iter was reached which means the coef_ did not converge\n",
            "  warnings.warn(\n",
            "/usr/local/lib/python3.10/dist-packages/sklearn/linear_model/_sag.py:350: ConvergenceWarning: The max_iter was reached which means the coef_ did not converge\n",
            "  warnings.warn(\n",
            "/usr/local/lib/python3.10/dist-packages/sklearn/linear_model/_sag.py:350: ConvergenceWarning: The max_iter was reached which means the coef_ did not converge\n",
            "  warnings.warn(\n",
            "/usr/local/lib/python3.10/dist-packages/sklearn/linear_model/_sag.py:350: ConvergenceWarning: The max_iter was reached which means the coef_ did not converge\n",
            "  warnings.warn(\n",
            "/usr/local/lib/python3.10/dist-packages/sklearn/linear_model/_sag.py:350: ConvergenceWarning: The max_iter was reached which means the coef_ did not converge\n",
            "  warnings.warn(\n",
            "/usr/local/lib/python3.10/dist-packages/sklearn/linear_model/_sag.py:350: ConvergenceWarning: The max_iter was reached which means the coef_ did not converge\n",
            "  warnings.warn(\n",
            "/usr/local/lib/python3.10/dist-packages/sklearn/linear_model/_sag.py:350: ConvergenceWarning: The max_iter was reached which means the coef_ did not converge\n",
            "  warnings.warn(\n",
            "/usr/local/lib/python3.10/dist-packages/sklearn/linear_model/_sag.py:350: ConvergenceWarning: The max_iter was reached which means the coef_ did not converge\n",
            "  warnings.warn(\n",
            "/usr/local/lib/python3.10/dist-packages/sklearn/linear_model/_sag.py:350: ConvergenceWarning: The max_iter was reached which means the coef_ did not converge\n",
            "  warnings.warn(\n",
            "/usr/local/lib/python3.10/dist-packages/sklearn/linear_model/_sag.py:350: ConvergenceWarning: The max_iter was reached which means the coef_ did not converge\n",
            "  warnings.warn(\n",
            "/usr/local/lib/python3.10/dist-packages/sklearn/linear_model/_sag.py:350: ConvergenceWarning: The max_iter was reached which means the coef_ did not converge\n",
            "  warnings.warn(\n",
            "/usr/local/lib/python3.10/dist-packages/sklearn/linear_model/_sag.py:350: ConvergenceWarning: The max_iter was reached which means the coef_ did not converge\n",
            "  warnings.warn(\n",
            "/usr/local/lib/python3.10/dist-packages/sklearn/linear_model/_sag.py:350: ConvergenceWarning: The max_iter was reached which means the coef_ did not converge\n",
            "  warnings.warn(\n",
            "/usr/local/lib/python3.10/dist-packages/sklearn/linear_model/_sag.py:350: ConvergenceWarning: The max_iter was reached which means the coef_ did not converge\n",
            "  warnings.warn(\n",
            "/usr/local/lib/python3.10/dist-packages/sklearn/linear_model/_sag.py:350: ConvergenceWarning: The max_iter was reached which means the coef_ did not converge\n",
            "  warnings.warn(\n",
            "/usr/local/lib/python3.10/dist-packages/sklearn/linear_model/_sag.py:350: ConvergenceWarning: The max_iter was reached which means the coef_ did not converge\n",
            "  warnings.warn(\n",
            "/usr/local/lib/python3.10/dist-packages/sklearn/linear_model/_sag.py:350: ConvergenceWarning: The max_iter was reached which means the coef_ did not converge\n",
            "  warnings.warn(\n",
            "/usr/local/lib/python3.10/dist-packages/sklearn/linear_model/_sag.py:350: ConvergenceWarning: The max_iter was reached which means the coef_ did not converge\n",
            "  warnings.warn(\n",
            "/usr/local/lib/python3.10/dist-packages/sklearn/linear_model/_sag.py:350: ConvergenceWarning: The max_iter was reached which means the coef_ did not converge\n",
            "  warnings.warn(\n",
            "/usr/local/lib/python3.10/dist-packages/sklearn/linear_model/_sag.py:350: ConvergenceWarning: The max_iter was reached which means the coef_ did not converge\n",
            "  warnings.warn(\n",
            "/usr/local/lib/python3.10/dist-packages/sklearn/linear_model/_sag.py:350: ConvergenceWarning: The max_iter was reached which means the coef_ did not converge\n",
            "  warnings.warn(\n",
            "/usr/local/lib/python3.10/dist-packages/sklearn/linear_model/_sag.py:350: ConvergenceWarning: The max_iter was reached which means the coef_ did not converge\n",
            "  warnings.warn(\n",
            "/usr/local/lib/python3.10/dist-packages/sklearn/linear_model/_sag.py:350: ConvergenceWarning: The max_iter was reached which means the coef_ did not converge\n",
            "  warnings.warn(\n",
            "/usr/local/lib/python3.10/dist-packages/sklearn/linear_model/_sag.py:350: ConvergenceWarning: The max_iter was reached which means the coef_ did not converge\n",
            "  warnings.warn(\n",
            "/usr/local/lib/python3.10/dist-packages/sklearn/linear_model/_sag.py:350: ConvergenceWarning: The max_iter was reached which means the coef_ did not converge\n",
            "  warnings.warn(\n",
            "/usr/local/lib/python3.10/dist-packages/sklearn/linear_model/_sag.py:350: ConvergenceWarning: The max_iter was reached which means the coef_ did not converge\n",
            "  warnings.warn(\n",
            "/usr/local/lib/python3.10/dist-packages/sklearn/linear_model/_sag.py:350: ConvergenceWarning: The max_iter was reached which means the coef_ did not converge\n",
            "  warnings.warn(\n",
            "/usr/local/lib/python3.10/dist-packages/sklearn/linear_model/_sag.py:350: ConvergenceWarning: The max_iter was reached which means the coef_ did not converge\n",
            "  warnings.warn(\n",
            "/usr/local/lib/python3.10/dist-packages/sklearn/linear_model/_sag.py:350: ConvergenceWarning: The max_iter was reached which means the coef_ did not converge\n",
            "  warnings.warn(\n",
            "/usr/local/lib/python3.10/dist-packages/sklearn/linear_model/_sag.py:350: ConvergenceWarning: The max_iter was reached which means the coef_ did not converge\n",
            "  warnings.warn(\n",
            "/usr/local/lib/python3.10/dist-packages/sklearn/linear_model/_sag.py:350: ConvergenceWarning: The max_iter was reached which means the coef_ did not converge\n",
            "  warnings.warn(\n",
            "/usr/local/lib/python3.10/dist-packages/sklearn/linear_model/_sag.py:350: ConvergenceWarning: The max_iter was reached which means the coef_ did not converge\n",
            "  warnings.warn(\n",
            "/usr/local/lib/python3.10/dist-packages/sklearn/linear_model/_sag.py:350: ConvergenceWarning: The max_iter was reached which means the coef_ did not converge\n",
            "  warnings.warn(\n",
            "/usr/local/lib/python3.10/dist-packages/sklearn/linear_model/_sag.py:350: ConvergenceWarning: The max_iter was reached which means the coef_ did not converge\n",
            "  warnings.warn(\n",
            "/usr/local/lib/python3.10/dist-packages/sklearn/linear_model/_sag.py:350: ConvergenceWarning: The max_iter was reached which means the coef_ did not converge\n",
            "  warnings.warn(\n",
            "/usr/local/lib/python3.10/dist-packages/sklearn/linear_model/_sag.py:350: ConvergenceWarning: The max_iter was reached which means the coef_ did not converge\n",
            "  warnings.warn(\n",
            "/usr/local/lib/python3.10/dist-packages/sklearn/linear_model/_sag.py:350: ConvergenceWarning: The max_iter was reached which means the coef_ did not converge\n",
            "  warnings.warn(\n",
            "/usr/local/lib/python3.10/dist-packages/sklearn/linear_model/_sag.py:350: ConvergenceWarning: The max_iter was reached which means the coef_ did not converge\n",
            "  warnings.warn(\n",
            "/usr/local/lib/python3.10/dist-packages/sklearn/linear_model/_sag.py:350: ConvergenceWarning: The max_iter was reached which means the coef_ did not converge\n",
            "  warnings.warn(\n",
            "/usr/local/lib/python3.10/dist-packages/sklearn/linear_model/_sag.py:350: ConvergenceWarning: The max_iter was reached which means the coef_ did not converge\n",
            "  warnings.warn(\n",
            "/usr/local/lib/python3.10/dist-packages/sklearn/linear_model/_sag.py:350: ConvergenceWarning: The max_iter was reached which means the coef_ did not converge\n",
            "  warnings.warn(\n",
            "/usr/local/lib/python3.10/dist-packages/sklearn/linear_model/_sag.py:350: ConvergenceWarning: The max_iter was reached which means the coef_ did not converge\n",
            "  warnings.warn(\n",
            "/usr/local/lib/python3.10/dist-packages/sklearn/linear_model/_sag.py:350: ConvergenceWarning: The max_iter was reached which means the coef_ did not converge\n",
            "  warnings.warn(\n",
            "/usr/local/lib/python3.10/dist-packages/sklearn/linear_model/_sag.py:350: ConvergenceWarning: The max_iter was reached which means the coef_ did not converge\n",
            "  warnings.warn(\n",
            "/usr/local/lib/python3.10/dist-packages/sklearn/linear_model/_sag.py:350: ConvergenceWarning: The max_iter was reached which means the coef_ did not converge\n",
            "  warnings.warn(\n",
            "/usr/local/lib/python3.10/dist-packages/sklearn/linear_model/_sag.py:350: ConvergenceWarning: The max_iter was reached which means the coef_ did not converge\n",
            "  warnings.warn(\n",
            "/usr/local/lib/python3.10/dist-packages/sklearn/linear_model/_sag.py:350: ConvergenceWarning: The max_iter was reached which means the coef_ did not converge\n",
            "  warnings.warn(\n",
            "/usr/local/lib/python3.10/dist-packages/sklearn/linear_model/_sag.py:350: ConvergenceWarning: The max_iter was reached which means the coef_ did not converge\n",
            "  warnings.warn(\n",
            "/usr/local/lib/python3.10/dist-packages/sklearn/linear_model/_sag.py:350: ConvergenceWarning: The max_iter was reached which means the coef_ did not converge\n",
            "  warnings.warn(\n",
            "/usr/local/lib/python3.10/dist-packages/sklearn/linear_model/_sag.py:350: ConvergenceWarning: The max_iter was reached which means the coef_ did not converge\n",
            "  warnings.warn(\n",
            "/usr/local/lib/python3.10/dist-packages/sklearn/linear_model/_sag.py:350: ConvergenceWarning: The max_iter was reached which means the coef_ did not converge\n",
            "  warnings.warn(\n",
            "/usr/local/lib/python3.10/dist-packages/sklearn/linear_model/_sag.py:350: ConvergenceWarning: The max_iter was reached which means the coef_ did not converge\n",
            "  warnings.warn(\n",
            "/usr/local/lib/python3.10/dist-packages/sklearn/linear_model/_sag.py:350: ConvergenceWarning: The max_iter was reached which means the coef_ did not converge\n",
            "  warnings.warn(\n",
            "/usr/local/lib/python3.10/dist-packages/sklearn/linear_model/_sag.py:350: ConvergenceWarning: The max_iter was reached which means the coef_ did not converge\n",
            "  warnings.warn(\n",
            "/usr/local/lib/python3.10/dist-packages/sklearn/linear_model/_sag.py:350: ConvergenceWarning: The max_iter was reached which means the coef_ did not converge\n",
            "  warnings.warn(\n",
            "/usr/local/lib/python3.10/dist-packages/sklearn/linear_model/_sag.py:350: ConvergenceWarning: The max_iter was reached which means the coef_ did not converge\n",
            "  warnings.warn(\n",
            "/usr/local/lib/python3.10/dist-packages/sklearn/linear_model/_sag.py:350: ConvergenceWarning: The max_iter was reached which means the coef_ did not converge\n",
            "  warnings.warn(\n",
            "/usr/local/lib/python3.10/dist-packages/sklearn/linear_model/_sag.py:350: ConvergenceWarning: The max_iter was reached which means the coef_ did not converge\n",
            "  warnings.warn(\n",
            "/usr/local/lib/python3.10/dist-packages/sklearn/linear_model/_sag.py:350: ConvergenceWarning: The max_iter was reached which means the coef_ did not converge\n",
            "  warnings.warn(\n",
            "/usr/local/lib/python3.10/dist-packages/sklearn/linear_model/_sag.py:350: ConvergenceWarning: The max_iter was reached which means the coef_ did not converge\n",
            "  warnings.warn(\n",
            "/usr/local/lib/python3.10/dist-packages/sklearn/linear_model/_sag.py:350: ConvergenceWarning: The max_iter was reached which means the coef_ did not converge\n",
            "  warnings.warn(\n",
            "/usr/local/lib/python3.10/dist-packages/sklearn/linear_model/_sag.py:350: ConvergenceWarning: The max_iter was reached which means the coef_ did not converge\n",
            "  warnings.warn(\n",
            "/usr/local/lib/python3.10/dist-packages/sklearn/linear_model/_sag.py:350: ConvergenceWarning: The max_iter was reached which means the coef_ did not converge\n",
            "  warnings.warn(\n",
            "/usr/local/lib/python3.10/dist-packages/sklearn/linear_model/_sag.py:350: ConvergenceWarning: The max_iter was reached which means the coef_ did not converge\n",
            "  warnings.warn(\n",
            "/usr/local/lib/python3.10/dist-packages/sklearn/linear_model/_sag.py:350: ConvergenceWarning: The max_iter was reached which means the coef_ did not converge\n",
            "  warnings.warn(\n",
            "/usr/local/lib/python3.10/dist-packages/sklearn/linear_model/_sag.py:350: ConvergenceWarning: The max_iter was reached which means the coef_ did not converge\n",
            "  warnings.warn(\n",
            "/usr/local/lib/python3.10/dist-packages/sklearn/linear_model/_sag.py:350: ConvergenceWarning: The max_iter was reached which means the coef_ did not converge\n",
            "  warnings.warn(\n",
            "/usr/local/lib/python3.10/dist-packages/sklearn/linear_model/_sag.py:350: ConvergenceWarning: The max_iter was reached which means the coef_ did not converge\n",
            "  warnings.warn(\n",
            "/usr/local/lib/python3.10/dist-packages/sklearn/linear_model/_sag.py:350: ConvergenceWarning: The max_iter was reached which means the coef_ did not converge\n",
            "  warnings.warn(\n",
            "/usr/local/lib/python3.10/dist-packages/sklearn/linear_model/_sag.py:350: ConvergenceWarning: The max_iter was reached which means the coef_ did not converge\n",
            "  warnings.warn(\n",
            "/usr/local/lib/python3.10/dist-packages/sklearn/linear_model/_sag.py:350: ConvergenceWarning: The max_iter was reached which means the coef_ did not converge\n",
            "  warnings.warn(\n",
            "/usr/local/lib/python3.10/dist-packages/sklearn/linear_model/_sag.py:350: ConvergenceWarning: The max_iter was reached which means the coef_ did not converge\n",
            "  warnings.warn(\n",
            "/usr/local/lib/python3.10/dist-packages/sklearn/linear_model/_sag.py:350: ConvergenceWarning: The max_iter was reached which means the coef_ did not converge\n",
            "  warnings.warn(\n",
            "/usr/local/lib/python3.10/dist-packages/sklearn/linear_model/_sag.py:350: ConvergenceWarning: The max_iter was reached which means the coef_ did not converge\n",
            "  warnings.warn(\n",
            "/usr/local/lib/python3.10/dist-packages/sklearn/linear_model/_sag.py:350: ConvergenceWarning: The max_iter was reached which means the coef_ did not converge\n",
            "  warnings.warn(\n",
            "/usr/local/lib/python3.10/dist-packages/sklearn/linear_model/_sag.py:350: ConvergenceWarning: The max_iter was reached which means the coef_ did not converge\n",
            "  warnings.warn(\n",
            "/usr/local/lib/python3.10/dist-packages/sklearn/linear_model/_sag.py:350: ConvergenceWarning: The max_iter was reached which means the coef_ did not converge\n",
            "  warnings.warn(\n",
            "/usr/local/lib/python3.10/dist-packages/sklearn/linear_model/_sag.py:350: ConvergenceWarning: The max_iter was reached which means the coef_ did not converge\n",
            "  warnings.warn(\n",
            "/usr/local/lib/python3.10/dist-packages/sklearn/linear_model/_sag.py:350: ConvergenceWarning: The max_iter was reached which means the coef_ did not converge\n",
            "  warnings.warn(\n",
            "/usr/local/lib/python3.10/dist-packages/sklearn/linear_model/_sag.py:350: ConvergenceWarning: The max_iter was reached which means the coef_ did not converge\n",
            "  warnings.warn(\n",
            "/usr/local/lib/python3.10/dist-packages/sklearn/linear_model/_sag.py:350: ConvergenceWarning: The max_iter was reached which means the coef_ did not converge\n",
            "  warnings.warn(\n",
            "/usr/local/lib/python3.10/dist-packages/sklearn/linear_model/_sag.py:350: ConvergenceWarning: The max_iter was reached which means the coef_ did not converge\n",
            "  warnings.warn(\n",
            "/usr/local/lib/python3.10/dist-packages/sklearn/linear_model/_sag.py:350: ConvergenceWarning: The max_iter was reached which means the coef_ did not converge\n",
            "  warnings.warn(\n",
            "/usr/local/lib/python3.10/dist-packages/sklearn/linear_model/_sag.py:350: ConvergenceWarning: The max_iter was reached which means the coef_ did not converge\n",
            "  warnings.warn(\n",
            "/usr/local/lib/python3.10/dist-packages/sklearn/linear_model/_sag.py:350: ConvergenceWarning: The max_iter was reached which means the coef_ did not converge\n",
            "  warnings.warn(\n",
            "/usr/local/lib/python3.10/dist-packages/sklearn/linear_model/_sag.py:350: ConvergenceWarning: The max_iter was reached which means the coef_ did not converge\n",
            "  warnings.warn(\n",
            "/usr/local/lib/python3.10/dist-packages/sklearn/linear_model/_sag.py:350: ConvergenceWarning: The max_iter was reached which means the coef_ did not converge\n",
            "  warnings.warn(\n",
            "/usr/local/lib/python3.10/dist-packages/sklearn/linear_model/_sag.py:350: ConvergenceWarning: The max_iter was reached which means the coef_ did not converge\n",
            "  warnings.warn(\n",
            "/usr/local/lib/python3.10/dist-packages/sklearn/linear_model/_sag.py:350: ConvergenceWarning: The max_iter was reached which means the coef_ did not converge\n",
            "  warnings.warn(\n",
            "/usr/local/lib/python3.10/dist-packages/sklearn/linear_model/_sag.py:350: ConvergenceWarning: The max_iter was reached which means the coef_ did not converge\n",
            "  warnings.warn(\n",
            "/usr/local/lib/python3.10/dist-packages/sklearn/linear_model/_sag.py:350: ConvergenceWarning: The max_iter was reached which means the coef_ did not converge\n",
            "  warnings.warn(\n",
            "/usr/local/lib/python3.10/dist-packages/sklearn/linear_model/_sag.py:350: ConvergenceWarning: The max_iter was reached which means the coef_ did not converge\n",
            "  warnings.warn(\n",
            "/usr/local/lib/python3.10/dist-packages/sklearn/linear_model/_sag.py:350: ConvergenceWarning: The max_iter was reached which means the coef_ did not converge\n",
            "  warnings.warn(\n",
            "/usr/local/lib/python3.10/dist-packages/sklearn/linear_model/_sag.py:350: ConvergenceWarning: The max_iter was reached which means the coef_ did not converge\n",
            "  warnings.warn(\n",
            "/usr/local/lib/python3.10/dist-packages/sklearn/linear_model/_sag.py:350: ConvergenceWarning: The max_iter was reached which means the coef_ did not converge\n",
            "  warnings.warn(\n",
            "/usr/local/lib/python3.10/dist-packages/sklearn/linear_model/_sag.py:350: ConvergenceWarning: The max_iter was reached which means the coef_ did not converge\n",
            "  warnings.warn(\n",
            "/usr/local/lib/python3.10/dist-packages/sklearn/linear_model/_sag.py:350: ConvergenceWarning: The max_iter was reached which means the coef_ did not converge\n",
            "  warnings.warn(\n",
            "/usr/local/lib/python3.10/dist-packages/sklearn/linear_model/_sag.py:350: ConvergenceWarning: The max_iter was reached which means the coef_ did not converge\n",
            "  warnings.warn(\n",
            "/usr/local/lib/python3.10/dist-packages/sklearn/linear_model/_sag.py:350: ConvergenceWarning: The max_iter was reached which means the coef_ did not converge\n",
            "  warnings.warn(\n",
            "/usr/local/lib/python3.10/dist-packages/sklearn/linear_model/_sag.py:350: ConvergenceWarning: The max_iter was reached which means the coef_ did not converge\n",
            "  warnings.warn(\n",
            "/usr/local/lib/python3.10/dist-packages/sklearn/linear_model/_sag.py:350: ConvergenceWarning: The max_iter was reached which means the coef_ did not converge\n",
            "  warnings.warn(\n",
            "/usr/local/lib/python3.10/dist-packages/sklearn/linear_model/_sag.py:350: ConvergenceWarning: The max_iter was reached which means the coef_ did not converge\n",
            "  warnings.warn(\n",
            "/usr/local/lib/python3.10/dist-packages/sklearn/linear_model/_sag.py:350: ConvergenceWarning: The max_iter was reached which means the coef_ did not converge\n",
            "  warnings.warn(\n",
            "/usr/local/lib/python3.10/dist-packages/sklearn/linear_model/_sag.py:350: ConvergenceWarning: The max_iter was reached which means the coef_ did not converge\n",
            "  warnings.warn(\n",
            "/usr/local/lib/python3.10/dist-packages/sklearn/linear_model/_sag.py:350: ConvergenceWarning: The max_iter was reached which means the coef_ did not converge\n",
            "  warnings.warn(\n",
            "/usr/local/lib/python3.10/dist-packages/sklearn/linear_model/_sag.py:350: ConvergenceWarning: The max_iter was reached which means the coef_ did not converge\n",
            "  warnings.warn(\n",
            "/usr/local/lib/python3.10/dist-packages/sklearn/linear_model/_sag.py:350: ConvergenceWarning: The max_iter was reached which means the coef_ did not converge\n",
            "  warnings.warn(\n",
            "/usr/local/lib/python3.10/dist-packages/sklearn/linear_model/_sag.py:350: ConvergenceWarning: The max_iter was reached which means the coef_ did not converge\n",
            "  warnings.warn(\n",
            "/usr/local/lib/python3.10/dist-packages/sklearn/linear_model/_sag.py:350: ConvergenceWarning: The max_iter was reached which means the coef_ did not converge\n",
            "  warnings.warn(\n",
            "/usr/local/lib/python3.10/dist-packages/sklearn/linear_model/_sag.py:350: ConvergenceWarning: The max_iter was reached which means the coef_ did not converge\n",
            "  warnings.warn(\n",
            "/usr/local/lib/python3.10/dist-packages/sklearn/linear_model/_sag.py:350: ConvergenceWarning: The max_iter was reached which means the coef_ did not converge\n",
            "  warnings.warn(\n",
            "/usr/local/lib/python3.10/dist-packages/sklearn/linear_model/_sag.py:350: ConvergenceWarning: The max_iter was reached which means the coef_ did not converge\n",
            "  warnings.warn(\n",
            "/usr/local/lib/python3.10/dist-packages/sklearn/linear_model/_sag.py:350: ConvergenceWarning: The max_iter was reached which means the coef_ did not converge\n",
            "  warnings.warn(\n",
            "/usr/local/lib/python3.10/dist-packages/sklearn/linear_model/_sag.py:350: ConvergenceWarning: The max_iter was reached which means the coef_ did not converge\n",
            "  warnings.warn(\n",
            "/usr/local/lib/python3.10/dist-packages/sklearn/linear_model/_sag.py:350: ConvergenceWarning: The max_iter was reached which means the coef_ did not converge\n",
            "  warnings.warn(\n",
            "/usr/local/lib/python3.10/dist-packages/sklearn/linear_model/_sag.py:350: ConvergenceWarning: The max_iter was reached which means the coef_ did not converge\n",
            "  warnings.warn(\n"
          ]
        },
        {
          "output_type": "stream",
          "name": "stdout",
          "text": [
            "                                0\n",
            "ApplicantIncome          0.008782\n",
            "CoapplicantIncome       -0.153911\n",
            "LoanAmount              -0.041092\n",
            "Loan_Amount_Term        -0.101774\n",
            "Gender_Female            0.077446\n",
            "Gender_Male              0.000000\n",
            "Gender_nan               0.000000\n",
            "Married_No              -0.500621\n",
            "Married_Yes              0.000000\n",
            "Married_nan              0.000000\n",
            "Dependents_0            -0.083088\n",
            "Dependents_1            -0.261035\n",
            "Dependents_2             0.021201\n",
            "Dependents_3+            0.349494\n",
            "Dependents_nan           0.000000\n",
            "Education_Graduate       0.146196\n",
            "Education_Not Graduate  -0.200461\n",
            "Self_Employed_No         0.000000\n",
            "Self_Employed_Yes        0.000000\n",
            "Self_Employed_nan        0.056281\n",
            "Credit_History_0.0      -3.070732\n",
            "Credit_History_0.4       0.000000\n",
            "Credit_History_0.6       0.000000\n",
            "Credit_History_0.8       0.320835\n",
            "Credit_History_1.0       0.620722\n",
            "Property_Area_Rural      0.000000\n",
            "Property_Area_Semiurban  0.744195\n",
            "Property_Area_Urban     -0.007628\n",
            "Intercept                0.656187\n",
            "[0.96153846]\n"
          ]
        },
        {
          "output_type": "stream",
          "name": "stderr",
          "text": [
            "/usr/local/lib/python3.10/dist-packages/sklearn/linear_model/_sag.py:350: ConvergenceWarning: The max_iter was reached which means the coef_ did not converge\n",
            "  warnings.warn(\n"
          ]
        }
      ]
    },
    {
      "cell_type": "code",
      "source": [
        "y_test_actual = df_testData[DV]\n",
        "\n",
        "X_test = df_testData.drop(columns=[DV])\n",
        "\n",
        "X_test = pd.get_dummies(X_test)\n",
        "\n",
        "from sklearn.metrics import roc_auc_score\n",
        "print(roc_auc_score(y_test_actual, clf_optimal.predict_proba(X_test)[:,1]))"
      ],
      "metadata": {
        "colab": {
          "base_uri": "https://localhost:8080/"
        },
        "id": "qwYzP5OlRt_B",
        "outputId": "3a68359a-3586-4663-9726-71664ef1290c"
      },
      "execution_count": null,
      "outputs": [
        {
          "output_type": "stream",
          "name": "stdout",
          "text": [
            "0.7496947496947497\n"
          ]
        }
      ]
    },
    {
      "cell_type": "code",
      "source": [
        "clf_optimal = LogisticRegressionCV(Cs=C_list, cv=kfolds, scoring='accuracy', penalty='l1', solver='saga', max_iter=100, random_state=1, n_jobs=-1).fit(X,y)\n",
        "\n",
        "# Display the estimated coefficients of the final selected model\n",
        "print(summary_coef(clf_optimal))\n",
        "\n",
        "# Display the optimal alpha that yields the final selected model (the best model candidate)\n",
        "print(1/clf_optimal.C_)"
      ],
      "metadata": {
        "colab": {
          "base_uri": "https://localhost:8080/"
        },
        "id": "OPfroQztSZnf",
        "outputId": "9c252d8d-72be-4072-b1a9-936de073e631"
      },
      "execution_count": null,
      "outputs": [
        {
          "output_type": "stream",
          "name": "stderr",
          "text": [
            "/usr/local/lib/python3.10/dist-packages/sklearn/linear_model/_sag.py:350: ConvergenceWarning: The max_iter was reached which means the coef_ did not converge\n",
            "  warnings.warn(\n",
            "/usr/local/lib/python3.10/dist-packages/sklearn/linear_model/_sag.py:350: ConvergenceWarning: The max_iter was reached which means the coef_ did not converge\n",
            "  warnings.warn(\n",
            "/usr/local/lib/python3.10/dist-packages/sklearn/linear_model/_sag.py:350: ConvergenceWarning: The max_iter was reached which means the coef_ did not converge\n",
            "  warnings.warn(\n",
            "/usr/local/lib/python3.10/dist-packages/sklearn/linear_model/_sag.py:350: ConvergenceWarning: The max_iter was reached which means the coef_ did not converge\n",
            "  warnings.warn(\n",
            "/usr/local/lib/python3.10/dist-packages/sklearn/linear_model/_sag.py:350: ConvergenceWarning: The max_iter was reached which means the coef_ did not converge\n",
            "  warnings.warn(\n",
            "/usr/local/lib/python3.10/dist-packages/sklearn/linear_model/_sag.py:350: ConvergenceWarning: The max_iter was reached which means the coef_ did not converge\n",
            "  warnings.warn(\n",
            "/usr/local/lib/python3.10/dist-packages/sklearn/linear_model/_sag.py:350: ConvergenceWarning: The max_iter was reached which means the coef_ did not converge\n",
            "  warnings.warn(\n",
            "/usr/local/lib/python3.10/dist-packages/sklearn/linear_model/_sag.py:350: ConvergenceWarning: The max_iter was reached which means the coef_ did not converge\n",
            "  warnings.warn(\n",
            "/usr/local/lib/python3.10/dist-packages/sklearn/linear_model/_sag.py:350: ConvergenceWarning: The max_iter was reached which means the coef_ did not converge\n",
            "  warnings.warn(\n",
            "/usr/local/lib/python3.10/dist-packages/sklearn/linear_model/_sag.py:350: ConvergenceWarning: The max_iter was reached which means the coef_ did not converge\n",
            "  warnings.warn(\n",
            "/usr/local/lib/python3.10/dist-packages/sklearn/linear_model/_sag.py:350: ConvergenceWarning: The max_iter was reached which means the coef_ did not converge\n",
            "  warnings.warn(\n",
            "/usr/local/lib/python3.10/dist-packages/sklearn/linear_model/_sag.py:350: ConvergenceWarning: The max_iter was reached which means the coef_ did not converge\n",
            "  warnings.warn(\n",
            "/usr/local/lib/python3.10/dist-packages/sklearn/linear_model/_sag.py:350: ConvergenceWarning: The max_iter was reached which means the coef_ did not converge\n",
            "  warnings.warn(\n",
            "/usr/local/lib/python3.10/dist-packages/sklearn/linear_model/_sag.py:350: ConvergenceWarning: The max_iter was reached which means the coef_ did not converge\n",
            "  warnings.warn(\n",
            "/usr/local/lib/python3.10/dist-packages/sklearn/linear_model/_sag.py:350: ConvergenceWarning: The max_iter was reached which means the coef_ did not converge\n",
            "  warnings.warn(\n",
            "/usr/local/lib/python3.10/dist-packages/sklearn/linear_model/_sag.py:350: ConvergenceWarning: The max_iter was reached which means the coef_ did not converge\n",
            "  warnings.warn(\n",
            "/usr/local/lib/python3.10/dist-packages/sklearn/linear_model/_sag.py:350: ConvergenceWarning: The max_iter was reached which means the coef_ did not converge\n",
            "  warnings.warn(\n",
            "/usr/local/lib/python3.10/dist-packages/sklearn/linear_model/_sag.py:350: ConvergenceWarning: The max_iter was reached which means the coef_ did not converge\n",
            "  warnings.warn(\n",
            "/usr/local/lib/python3.10/dist-packages/sklearn/linear_model/_sag.py:350: ConvergenceWarning: The max_iter was reached which means the coef_ did not converge\n",
            "  warnings.warn(\n",
            "/usr/local/lib/python3.10/dist-packages/sklearn/linear_model/_sag.py:350: ConvergenceWarning: The max_iter was reached which means the coef_ did not converge\n",
            "  warnings.warn(\n",
            "/usr/local/lib/python3.10/dist-packages/sklearn/linear_model/_sag.py:350: ConvergenceWarning: The max_iter was reached which means the coef_ did not converge\n",
            "  warnings.warn(\n",
            "/usr/local/lib/python3.10/dist-packages/sklearn/linear_model/_sag.py:350: ConvergenceWarning: The max_iter was reached which means the coef_ did not converge\n",
            "  warnings.warn(\n",
            "/usr/local/lib/python3.10/dist-packages/sklearn/linear_model/_sag.py:350: ConvergenceWarning: The max_iter was reached which means the coef_ did not converge\n",
            "  warnings.warn(\n",
            "/usr/local/lib/python3.10/dist-packages/sklearn/linear_model/_sag.py:350: ConvergenceWarning: The max_iter was reached which means the coef_ did not converge\n",
            "  warnings.warn(\n",
            "/usr/local/lib/python3.10/dist-packages/sklearn/linear_model/_sag.py:350: ConvergenceWarning: The max_iter was reached which means the coef_ did not converge\n",
            "  warnings.warn(\n",
            "/usr/local/lib/python3.10/dist-packages/sklearn/linear_model/_sag.py:350: ConvergenceWarning: The max_iter was reached which means the coef_ did not converge\n",
            "  warnings.warn(\n",
            "/usr/local/lib/python3.10/dist-packages/sklearn/linear_model/_sag.py:350: ConvergenceWarning: The max_iter was reached which means the coef_ did not converge\n",
            "  warnings.warn(\n",
            "/usr/local/lib/python3.10/dist-packages/sklearn/linear_model/_sag.py:350: ConvergenceWarning: The max_iter was reached which means the coef_ did not converge\n",
            "  warnings.warn(\n",
            "/usr/local/lib/python3.10/dist-packages/sklearn/linear_model/_sag.py:350: ConvergenceWarning: The max_iter was reached which means the coef_ did not converge\n",
            "  warnings.warn(\n",
            "/usr/local/lib/python3.10/dist-packages/sklearn/linear_model/_sag.py:350: ConvergenceWarning: The max_iter was reached which means the coef_ did not converge\n",
            "  warnings.warn(\n",
            "/usr/local/lib/python3.10/dist-packages/sklearn/linear_model/_sag.py:350: ConvergenceWarning: The max_iter was reached which means the coef_ did not converge\n",
            "  warnings.warn(\n",
            "/usr/local/lib/python3.10/dist-packages/sklearn/linear_model/_sag.py:350: ConvergenceWarning: The max_iter was reached which means the coef_ did not converge\n",
            "  warnings.warn(\n",
            "/usr/local/lib/python3.10/dist-packages/sklearn/linear_model/_sag.py:350: ConvergenceWarning: The max_iter was reached which means the coef_ did not converge\n",
            "  warnings.warn(\n",
            "/usr/local/lib/python3.10/dist-packages/sklearn/linear_model/_sag.py:350: ConvergenceWarning: The max_iter was reached which means the coef_ did not converge\n",
            "  warnings.warn(\n",
            "/usr/local/lib/python3.10/dist-packages/sklearn/linear_model/_sag.py:350: ConvergenceWarning: The max_iter was reached which means the coef_ did not converge\n",
            "  warnings.warn(\n",
            "/usr/local/lib/python3.10/dist-packages/sklearn/linear_model/_sag.py:350: ConvergenceWarning: The max_iter was reached which means the coef_ did not converge\n",
            "  warnings.warn(\n",
            "/usr/local/lib/python3.10/dist-packages/sklearn/linear_model/_sag.py:350: ConvergenceWarning: The max_iter was reached which means the coef_ did not converge\n",
            "  warnings.warn(\n",
            "/usr/local/lib/python3.10/dist-packages/sklearn/linear_model/_sag.py:350: ConvergenceWarning: The max_iter was reached which means the coef_ did not converge\n",
            "  warnings.warn(\n",
            "/usr/local/lib/python3.10/dist-packages/sklearn/linear_model/_sag.py:350: ConvergenceWarning: The max_iter was reached which means the coef_ did not converge\n",
            "  warnings.warn(\n",
            "/usr/local/lib/python3.10/dist-packages/sklearn/linear_model/_sag.py:350: ConvergenceWarning: The max_iter was reached which means the coef_ did not converge\n",
            "  warnings.warn(\n",
            "/usr/local/lib/python3.10/dist-packages/sklearn/linear_model/_sag.py:350: ConvergenceWarning: The max_iter was reached which means the coef_ did not converge\n",
            "  warnings.warn(\n",
            "/usr/local/lib/python3.10/dist-packages/sklearn/linear_model/_sag.py:350: ConvergenceWarning: The max_iter was reached which means the coef_ did not converge\n",
            "  warnings.warn(\n",
            "/usr/local/lib/python3.10/dist-packages/sklearn/linear_model/_sag.py:350: ConvergenceWarning: The max_iter was reached which means the coef_ did not converge\n",
            "  warnings.warn(\n",
            "/usr/local/lib/python3.10/dist-packages/sklearn/linear_model/_sag.py:350: ConvergenceWarning: The max_iter was reached which means the coef_ did not converge\n",
            "  warnings.warn(\n",
            "/usr/local/lib/python3.10/dist-packages/sklearn/linear_model/_sag.py:350: ConvergenceWarning: The max_iter was reached which means the coef_ did not converge\n",
            "  warnings.warn(\n",
            "/usr/local/lib/python3.10/dist-packages/sklearn/linear_model/_sag.py:350: ConvergenceWarning: The max_iter was reached which means the coef_ did not converge\n",
            "  warnings.warn(\n",
            "/usr/local/lib/python3.10/dist-packages/sklearn/linear_model/_sag.py:350: ConvergenceWarning: The max_iter was reached which means the coef_ did not converge\n",
            "  warnings.warn(\n",
            "/usr/local/lib/python3.10/dist-packages/sklearn/linear_model/_sag.py:350: ConvergenceWarning: The max_iter was reached which means the coef_ did not converge\n",
            "  warnings.warn(\n",
            "/usr/local/lib/python3.10/dist-packages/sklearn/linear_model/_sag.py:350: ConvergenceWarning: The max_iter was reached which means the coef_ did not converge\n",
            "  warnings.warn(\n",
            "/usr/local/lib/python3.10/dist-packages/sklearn/linear_model/_sag.py:350: ConvergenceWarning: The max_iter was reached which means the coef_ did not converge\n",
            "  warnings.warn(\n",
            "/usr/local/lib/python3.10/dist-packages/sklearn/linear_model/_sag.py:350: ConvergenceWarning: The max_iter was reached which means the coef_ did not converge\n",
            "  warnings.warn(\n",
            "/usr/local/lib/python3.10/dist-packages/sklearn/linear_model/_sag.py:350: ConvergenceWarning: The max_iter was reached which means the coef_ did not converge\n",
            "  warnings.warn(\n",
            "/usr/local/lib/python3.10/dist-packages/sklearn/linear_model/_sag.py:350: ConvergenceWarning: The max_iter was reached which means the coef_ did not converge\n",
            "  warnings.warn(\n",
            "/usr/local/lib/python3.10/dist-packages/sklearn/linear_model/_sag.py:350: ConvergenceWarning: The max_iter was reached which means the coef_ did not converge\n",
            "  warnings.warn(\n",
            "/usr/local/lib/python3.10/dist-packages/sklearn/linear_model/_sag.py:350: ConvergenceWarning: The max_iter was reached which means the coef_ did not converge\n",
            "  warnings.warn(\n",
            "/usr/local/lib/python3.10/dist-packages/sklearn/linear_model/_sag.py:350: ConvergenceWarning: The max_iter was reached which means the coef_ did not converge\n",
            "  warnings.warn(\n",
            "/usr/local/lib/python3.10/dist-packages/sklearn/linear_model/_sag.py:350: ConvergenceWarning: The max_iter was reached which means the coef_ did not converge\n",
            "  warnings.warn(\n",
            "/usr/local/lib/python3.10/dist-packages/sklearn/linear_model/_sag.py:350: ConvergenceWarning: The max_iter was reached which means the coef_ did not converge\n",
            "  warnings.warn(\n",
            "/usr/local/lib/python3.10/dist-packages/sklearn/linear_model/_sag.py:350: ConvergenceWarning: The max_iter was reached which means the coef_ did not converge\n",
            "  warnings.warn(\n",
            "/usr/local/lib/python3.10/dist-packages/sklearn/linear_model/_sag.py:350: ConvergenceWarning: The max_iter was reached which means the coef_ did not converge\n",
            "  warnings.warn(\n",
            "/usr/local/lib/python3.10/dist-packages/sklearn/linear_model/_sag.py:350: ConvergenceWarning: The max_iter was reached which means the coef_ did not converge\n",
            "  warnings.warn(\n",
            "/usr/local/lib/python3.10/dist-packages/sklearn/linear_model/_sag.py:350: ConvergenceWarning: The max_iter was reached which means the coef_ did not converge\n",
            "  warnings.warn(\n",
            "/usr/local/lib/python3.10/dist-packages/sklearn/linear_model/_sag.py:350: ConvergenceWarning: The max_iter was reached which means the coef_ did not converge\n",
            "  warnings.warn(\n",
            "/usr/local/lib/python3.10/dist-packages/sklearn/linear_model/_sag.py:350: ConvergenceWarning: The max_iter was reached which means the coef_ did not converge\n",
            "  warnings.warn(\n",
            "/usr/local/lib/python3.10/dist-packages/sklearn/linear_model/_sag.py:350: ConvergenceWarning: The max_iter was reached which means the coef_ did not converge\n",
            "  warnings.warn(\n",
            "/usr/local/lib/python3.10/dist-packages/sklearn/linear_model/_sag.py:350: ConvergenceWarning: The max_iter was reached which means the coef_ did not converge\n",
            "  warnings.warn(\n",
            "/usr/local/lib/python3.10/dist-packages/sklearn/linear_model/_sag.py:350: ConvergenceWarning: The max_iter was reached which means the coef_ did not converge\n",
            "  warnings.warn(\n",
            "/usr/local/lib/python3.10/dist-packages/sklearn/linear_model/_sag.py:350: ConvergenceWarning: The max_iter was reached which means the coef_ did not converge\n",
            "  warnings.warn(\n",
            "/usr/local/lib/python3.10/dist-packages/sklearn/linear_model/_sag.py:350: ConvergenceWarning: The max_iter was reached which means the coef_ did not converge\n",
            "  warnings.warn(\n",
            "/usr/local/lib/python3.10/dist-packages/sklearn/linear_model/_sag.py:350: ConvergenceWarning: The max_iter was reached which means the coef_ did not converge\n",
            "  warnings.warn(\n",
            "/usr/local/lib/python3.10/dist-packages/sklearn/linear_model/_sag.py:350: ConvergenceWarning: The max_iter was reached which means the coef_ did not converge\n",
            "  warnings.warn(\n",
            "/usr/local/lib/python3.10/dist-packages/sklearn/linear_model/_sag.py:350: ConvergenceWarning: The max_iter was reached which means the coef_ did not converge\n",
            "  warnings.warn(\n",
            "/usr/local/lib/python3.10/dist-packages/sklearn/linear_model/_sag.py:350: ConvergenceWarning: The max_iter was reached which means the coef_ did not converge\n",
            "  warnings.warn(\n",
            "/usr/local/lib/python3.10/dist-packages/sklearn/linear_model/_sag.py:350: ConvergenceWarning: The max_iter was reached which means the coef_ did not converge\n",
            "  warnings.warn(\n",
            "/usr/local/lib/python3.10/dist-packages/sklearn/linear_model/_sag.py:350: ConvergenceWarning: The max_iter was reached which means the coef_ did not converge\n",
            "  warnings.warn(\n",
            "/usr/local/lib/python3.10/dist-packages/sklearn/linear_model/_sag.py:350: ConvergenceWarning: The max_iter was reached which means the coef_ did not converge\n",
            "  warnings.warn(\n",
            "/usr/local/lib/python3.10/dist-packages/sklearn/linear_model/_sag.py:350: ConvergenceWarning: The max_iter was reached which means the coef_ did not converge\n",
            "  warnings.warn(\n",
            "/usr/local/lib/python3.10/dist-packages/sklearn/linear_model/_sag.py:350: ConvergenceWarning: The max_iter was reached which means the coef_ did not converge\n",
            "  warnings.warn(\n",
            "/usr/local/lib/python3.10/dist-packages/sklearn/linear_model/_sag.py:350: ConvergenceWarning: The max_iter was reached which means the coef_ did not converge\n",
            "  warnings.warn(\n",
            "/usr/local/lib/python3.10/dist-packages/sklearn/linear_model/_sag.py:350: ConvergenceWarning: The max_iter was reached which means the coef_ did not converge\n",
            "  warnings.warn(\n",
            "/usr/local/lib/python3.10/dist-packages/sklearn/linear_model/_sag.py:350: ConvergenceWarning: The max_iter was reached which means the coef_ did not converge\n",
            "  warnings.warn(\n",
            "/usr/local/lib/python3.10/dist-packages/sklearn/linear_model/_sag.py:350: ConvergenceWarning: The max_iter was reached which means the coef_ did not converge\n",
            "  warnings.warn(\n",
            "/usr/local/lib/python3.10/dist-packages/sklearn/linear_model/_sag.py:350: ConvergenceWarning: The max_iter was reached which means the coef_ did not converge\n",
            "  warnings.warn(\n",
            "/usr/local/lib/python3.10/dist-packages/sklearn/linear_model/_sag.py:350: ConvergenceWarning: The max_iter was reached which means the coef_ did not converge\n",
            "  warnings.warn(\n",
            "/usr/local/lib/python3.10/dist-packages/sklearn/linear_model/_sag.py:350: ConvergenceWarning: The max_iter was reached which means the coef_ did not converge\n",
            "  warnings.warn(\n",
            "/usr/local/lib/python3.10/dist-packages/sklearn/linear_model/_sag.py:350: ConvergenceWarning: The max_iter was reached which means the coef_ did not converge\n",
            "  warnings.warn(\n",
            "/usr/local/lib/python3.10/dist-packages/sklearn/linear_model/_sag.py:350: ConvergenceWarning: The max_iter was reached which means the coef_ did not converge\n",
            "  warnings.warn(\n",
            "/usr/local/lib/python3.10/dist-packages/sklearn/linear_model/_sag.py:350: ConvergenceWarning: The max_iter was reached which means the coef_ did not converge\n",
            "  warnings.warn(\n",
            "/usr/local/lib/python3.10/dist-packages/sklearn/linear_model/_sag.py:350: ConvergenceWarning: The max_iter was reached which means the coef_ did not converge\n",
            "  warnings.warn(\n",
            "/usr/local/lib/python3.10/dist-packages/sklearn/linear_model/_sag.py:350: ConvergenceWarning: The max_iter was reached which means the coef_ did not converge\n",
            "  warnings.warn(\n",
            "/usr/local/lib/python3.10/dist-packages/sklearn/linear_model/_sag.py:350: ConvergenceWarning: The max_iter was reached which means the coef_ did not converge\n",
            "  warnings.warn(\n",
            "/usr/local/lib/python3.10/dist-packages/sklearn/linear_model/_sag.py:350: ConvergenceWarning: The max_iter was reached which means the coef_ did not converge\n",
            "  warnings.warn(\n",
            "/usr/local/lib/python3.10/dist-packages/sklearn/linear_model/_sag.py:350: ConvergenceWarning: The max_iter was reached which means the coef_ did not converge\n",
            "  warnings.warn(\n",
            "/usr/local/lib/python3.10/dist-packages/sklearn/linear_model/_sag.py:350: ConvergenceWarning: The max_iter was reached which means the coef_ did not converge\n",
            "  warnings.warn(\n",
            "/usr/local/lib/python3.10/dist-packages/sklearn/linear_model/_sag.py:350: ConvergenceWarning: The max_iter was reached which means the coef_ did not converge\n",
            "  warnings.warn(\n",
            "/usr/local/lib/python3.10/dist-packages/sklearn/linear_model/_sag.py:350: ConvergenceWarning: The max_iter was reached which means the coef_ did not converge\n",
            "  warnings.warn(\n",
            "/usr/local/lib/python3.10/dist-packages/sklearn/linear_model/_sag.py:350: ConvergenceWarning: The max_iter was reached which means the coef_ did not converge\n",
            "  warnings.warn(\n",
            "/usr/local/lib/python3.10/dist-packages/sklearn/linear_model/_sag.py:350: ConvergenceWarning: The max_iter was reached which means the coef_ did not converge\n",
            "  warnings.warn(\n",
            "/usr/local/lib/python3.10/dist-packages/sklearn/linear_model/_sag.py:350: ConvergenceWarning: The max_iter was reached which means the coef_ did not converge\n",
            "  warnings.warn(\n",
            "/usr/local/lib/python3.10/dist-packages/sklearn/linear_model/_sag.py:350: ConvergenceWarning: The max_iter was reached which means the coef_ did not converge\n",
            "  warnings.warn(\n",
            "/usr/local/lib/python3.10/dist-packages/sklearn/linear_model/_sag.py:350: ConvergenceWarning: The max_iter was reached which means the coef_ did not converge\n",
            "  warnings.warn(\n",
            "/usr/local/lib/python3.10/dist-packages/sklearn/linear_model/_sag.py:350: ConvergenceWarning: The max_iter was reached which means the coef_ did not converge\n",
            "  warnings.warn(\n",
            "/usr/local/lib/python3.10/dist-packages/sklearn/linear_model/_sag.py:350: ConvergenceWarning: The max_iter was reached which means the coef_ did not converge\n",
            "  warnings.warn(\n",
            "/usr/local/lib/python3.10/dist-packages/sklearn/linear_model/_sag.py:350: ConvergenceWarning: The max_iter was reached which means the coef_ did not converge\n",
            "  warnings.warn(\n",
            "/usr/local/lib/python3.10/dist-packages/sklearn/linear_model/_sag.py:350: ConvergenceWarning: The max_iter was reached which means the coef_ did not converge\n",
            "  warnings.warn(\n",
            "/usr/local/lib/python3.10/dist-packages/sklearn/linear_model/_sag.py:350: ConvergenceWarning: The max_iter was reached which means the coef_ did not converge\n",
            "  warnings.warn(\n",
            "/usr/local/lib/python3.10/dist-packages/sklearn/linear_model/_sag.py:350: ConvergenceWarning: The max_iter was reached which means the coef_ did not converge\n",
            "  warnings.warn(\n",
            "/usr/local/lib/python3.10/dist-packages/sklearn/linear_model/_sag.py:350: ConvergenceWarning: The max_iter was reached which means the coef_ did not converge\n",
            "  warnings.warn(\n",
            "/usr/local/lib/python3.10/dist-packages/sklearn/linear_model/_sag.py:350: ConvergenceWarning: The max_iter was reached which means the coef_ did not converge\n",
            "  warnings.warn(\n",
            "/usr/local/lib/python3.10/dist-packages/sklearn/linear_model/_sag.py:350: ConvergenceWarning: The max_iter was reached which means the coef_ did not converge\n",
            "  warnings.warn(\n",
            "/usr/local/lib/python3.10/dist-packages/sklearn/linear_model/_sag.py:350: ConvergenceWarning: The max_iter was reached which means the coef_ did not converge\n",
            "  warnings.warn(\n",
            "/usr/local/lib/python3.10/dist-packages/sklearn/linear_model/_sag.py:350: ConvergenceWarning: The max_iter was reached which means the coef_ did not converge\n",
            "  warnings.warn(\n",
            "/usr/local/lib/python3.10/dist-packages/sklearn/linear_model/_sag.py:350: ConvergenceWarning: The max_iter was reached which means the coef_ did not converge\n",
            "  warnings.warn(\n",
            "/usr/local/lib/python3.10/dist-packages/sklearn/linear_model/_sag.py:350: ConvergenceWarning: The max_iter was reached which means the coef_ did not converge\n",
            "  warnings.warn(\n",
            "/usr/local/lib/python3.10/dist-packages/sklearn/linear_model/_sag.py:350: ConvergenceWarning: The max_iter was reached which means the coef_ did not converge\n",
            "  warnings.warn(\n",
            "/usr/local/lib/python3.10/dist-packages/sklearn/linear_model/_sag.py:350: ConvergenceWarning: The max_iter was reached which means the coef_ did not converge\n",
            "  warnings.warn(\n",
            "/usr/local/lib/python3.10/dist-packages/sklearn/linear_model/_sag.py:350: ConvergenceWarning: The max_iter was reached which means the coef_ did not converge\n",
            "  warnings.warn(\n",
            "/usr/local/lib/python3.10/dist-packages/sklearn/linear_model/_sag.py:350: ConvergenceWarning: The max_iter was reached which means the coef_ did not converge\n",
            "  warnings.warn(\n",
            "/usr/local/lib/python3.10/dist-packages/sklearn/linear_model/_sag.py:350: ConvergenceWarning: The max_iter was reached which means the coef_ did not converge\n",
            "  warnings.warn(\n",
            "/usr/local/lib/python3.10/dist-packages/sklearn/linear_model/_sag.py:350: ConvergenceWarning: The max_iter was reached which means the coef_ did not converge\n",
            "  warnings.warn(\n",
            "/usr/local/lib/python3.10/dist-packages/sklearn/linear_model/_sag.py:350: ConvergenceWarning: The max_iter was reached which means the coef_ did not converge\n",
            "  warnings.warn(\n",
            "/usr/local/lib/python3.10/dist-packages/sklearn/linear_model/_sag.py:350: ConvergenceWarning: The max_iter was reached which means the coef_ did not converge\n",
            "  warnings.warn(\n",
            "/usr/local/lib/python3.10/dist-packages/sklearn/linear_model/_sag.py:350: ConvergenceWarning: The max_iter was reached which means the coef_ did not converge\n",
            "  warnings.warn(\n",
            "/usr/local/lib/python3.10/dist-packages/sklearn/linear_model/_sag.py:350: ConvergenceWarning: The max_iter was reached which means the coef_ did not converge\n",
            "  warnings.warn(\n",
            "/usr/local/lib/python3.10/dist-packages/sklearn/linear_model/_sag.py:350: ConvergenceWarning: The max_iter was reached which means the coef_ did not converge\n",
            "  warnings.warn(\n",
            "/usr/local/lib/python3.10/dist-packages/sklearn/linear_model/_sag.py:350: ConvergenceWarning: The max_iter was reached which means the coef_ did not converge\n",
            "  warnings.warn(\n",
            "/usr/local/lib/python3.10/dist-packages/sklearn/linear_model/_sag.py:350: ConvergenceWarning: The max_iter was reached which means the coef_ did not converge\n",
            "  warnings.warn(\n",
            "/usr/local/lib/python3.10/dist-packages/sklearn/linear_model/_sag.py:350: ConvergenceWarning: The max_iter was reached which means the coef_ did not converge\n",
            "  warnings.warn(\n"
          ]
        },
        {
          "output_type": "stream",
          "name": "stdout",
          "text": [
            "                                0\n",
            "ApplicantIncome          0.008782\n",
            "CoapplicantIncome       -0.153911\n",
            "LoanAmount              -0.041092\n",
            "Loan_Amount_Term        -0.101774\n",
            "Gender_Female            0.077446\n",
            "Gender_Male              0.000000\n",
            "Gender_nan               0.000000\n",
            "Married_No              -0.500621\n",
            "Married_Yes              0.000000\n",
            "Married_nan              0.000000\n",
            "Dependents_0            -0.083088\n",
            "Dependents_1            -0.261035\n",
            "Dependents_2             0.021201\n",
            "Dependents_3+            0.349494\n",
            "Dependents_nan           0.000000\n",
            "Education_Graduate       0.146196\n",
            "Education_Not Graduate  -0.200461\n",
            "Self_Employed_No         0.000000\n",
            "Self_Employed_Yes        0.000000\n",
            "Self_Employed_nan        0.056281\n",
            "Credit_History_0.0      -3.070732\n",
            "Credit_History_0.4       0.000000\n",
            "Credit_History_0.6       0.000000\n",
            "Credit_History_0.8       0.320835\n",
            "Credit_History_1.0       0.620722\n",
            "Property_Area_Rural      0.000000\n",
            "Property_Area_Semiurban  0.744195\n",
            "Property_Area_Urban     -0.007628\n",
            "Intercept                0.656187\n",
            "[0.96153846]\n"
          ]
        },
        {
          "output_type": "stream",
          "name": "stderr",
          "text": [
            "/usr/local/lib/python3.10/dist-packages/sklearn/linear_model/_sag.py:350: ConvergenceWarning: The max_iter was reached which means the coef_ did not converge\n",
            "  warnings.warn(\n"
          ]
        }
      ]
    },
    {
      "cell_type": "code",
      "source": [
        "from sklearn import metrics\n",
        "metrics.confusion_matrix(y_test_actual, clf_optimal.predict(X_test))"
      ],
      "metadata": {
        "colab": {
          "base_uri": "https://localhost:8080/"
        },
        "id": "eADlQ9TcSlk8",
        "outputId": "d00d0b2d-c8bc-4be0-b212-2f5d899fb7d7"
      },
      "execution_count": null,
      "outputs": [
        {
          "output_type": "execute_result",
          "data": {
            "text/plain": [
              "array([[16, 23],\n",
              "       [ 1, 83]])"
            ]
          },
          "metadata": {},
          "execution_count": 536
        }
      ]
    },
    {
      "cell_type": "code",
      "source": [
        "clf_optimal.score(X_test, y_test_actual )"
      ],
      "metadata": {
        "colab": {
          "base_uri": "https://localhost:8080/"
        },
        "id": "-tTRAlYySnP-",
        "outputId": "c6b859df-4fbf-4030-deb7-d6f02b7b50c2"
      },
      "execution_count": null,
      "outputs": [
        {
          "output_type": "execute_result",
          "data": {
            "text/plain": [
              "0.8048780487804879"
            ]
          },
          "metadata": {},
          "execution_count": 537
        }
      ]
    },
    {
      "cell_type": "code",
      "source": [
        "print(classification_report(y_test_actual, clf_optimal.predict(X_test)))"
      ],
      "metadata": {
        "colab": {
          "base_uri": "https://localhost:8080/"
        },
        "id": "KTwei5ltTK86",
        "outputId": "ccf78bf8-346c-4f92-ffcb-74e4bb73677a"
      },
      "execution_count": null,
      "outputs": [
        {
          "output_type": "stream",
          "name": "stdout",
          "text": [
            "              precision    recall  f1-score   support\n",
            "\n",
            "           N       0.94      0.41      0.57        39\n",
            "           Y       0.78      0.99      0.87        84\n",
            "\n",
            "    accuracy                           0.80       123\n",
            "   macro avg       0.86      0.70      0.72       123\n",
            "weighted avg       0.83      0.80      0.78       123\n",
            "\n"
          ]
        }
      ]
    },
    {
      "cell_type": "markdown",
      "source": [
        "##Neural Network"
      ],
      "metadata": {
        "id": "QF4Xg6UBTbZP"
      }
    },
    {
      "cell_type": "code",
      "source": [
        "from sklearn.neural_network import MLPClassifier\n",
        "\n",
        "DV = 'Loan_Status'\n",
        "y = df_nontestData[DV]\n",
        "X = df_nontestData.drop(columns=[DV])\n",
        "\n",
        "X=pd.get_dummies(X)\n",
        "\n",
        "alpha = 0.1\n",
        "hls = 3\n",
        "\n",
        "clf = MLPClassifier(solver='lbfgs', alpha=alpha, hidden_layer_sizes=hls, max_iter=2000, random_state=1).fit(X,y)\n",
        "\n",
        "def summary_nn(model_object):\n",
        "  coef_structure = [coef.shape for coef in model_object.coefs_]\n",
        "\n",
        "  n_hidden_nodes = coef_structure[0][1]\n",
        "  n_input_nodes = coef_structure[0][0]\n",
        "\n",
        "  print('Neural Network Model Summary \\n')\n",
        "\n",
        "  print('Section 0. Penalty level alpha:', model_object.alpha)\n",
        "\n",
        "  print('\\nSection 1. Input (I) -> Hidden (H) - Weight (W): \\n')\n",
        "\n",
        "  for i in range(n_input_nodes):\n",
        "    for j in range(n_hidden_nodes):\n",
        "      print('I:', i+1, '-> H:', j+1, '- W:', model_object.coefs_[0][i][j])\n",
        "\n",
        "  print('\\nSection 2. Hidden (H) - Node Bias (B): \\n')\n",
        "  for j in range(n_hidden_nodes):\n",
        "    print('H:', j+1, '- B:', model_object.intercepts_[0][j])\n",
        "\n",
        "  print('\\nSection 3. Hidden (H) -> Output (O) - Weight (W): \\n')\n",
        "  for j in range(n_hidden_nodes):\n",
        "    print('H:', j+1, '-> O - W:', model_object.coefs_[1][j][0])\n",
        "\n",
        "  print('\\nSection 4. Output (O) - Node Bias (B): \\n')\n",
        "  print('O - B:', model_object.intercepts_[1][0])\n",
        "\n",
        "summary_nn(clf)"
      ],
      "metadata": {
        "colab": {
          "base_uri": "https://localhost:8080/"
        },
        "id": "Mg5M2kuSTdei",
        "outputId": "f3ee2dcf-763c-48a1-f95e-93a2edab3d07"
      },
      "execution_count": null,
      "outputs": [
        {
          "output_type": "stream",
          "name": "stdout",
          "text": [
            "Neural Network Model Summary \n",
            "\n",
            "Section 0. Penalty level alpha: 0.1\n",
            "\n",
            "Section 1. Input (I) -> Hidden (H) - Weight (W): \n",
            "\n",
            "I: 1 -> H: 1 - W: -0.14405624863027494\n",
            "I: 1 -> H: 2 - W: 0.16142191762739208\n",
            "I: 1 -> H: 3 - W: -0.009325732085610163\n",
            "I: 2 -> H: 1 - W: 0.039822540439973166\n",
            "I: 2 -> H: 2 - W: -0.13728755161641698\n",
            "I: 2 -> H: 3 - W: 0.037937066443334735\n",
            "I: 3 -> H: 1 - W: -0.26030287072780567\n",
            "I: 3 -> H: 2 - W: 0.15198776197447955\n",
            "I: 3 -> H: 3 - W: -0.21008831116202073\n",
            "I: 4 -> H: 1 - W: 0.03951645147092945\n",
            "I: 4 -> H: 2 - W: -0.07460302036906827\n",
            "I: 4 -> H: 3 - W: -0.03954014808136957\n",
            "I: 5 -> H: 1 - W: -0.5658593725736555\n",
            "I: 5 -> H: 2 - W: 0.7706833086682948\n",
            "I: 5 -> H: 3 - W: -0.24932574630955534\n",
            "I: 6 -> H: 1 - W: 0.41909364932345494\n",
            "I: 6 -> H: 2 - W: -0.4323922318862172\n",
            "I: 6 -> H: 3 - W: -0.10920183528283822\n",
            "I: 7 -> H: 1 - W: -0.329256701761013\n",
            "I: 7 -> H: 2 - W: -0.27468383369946536\n",
            "I: 7 -> H: 3 - W: 0.09742202788030226\n",
            "I: 8 -> H: 1 - W: -0.2167855180155993\n",
            "I: 8 -> H: 2 - W: -0.6746614474778624\n",
            "I: 8 -> H: 3 - W: 0.21604192377298972\n",
            "I: 9 -> H: 1 - W: -0.11461158987367547\n",
            "I: 9 -> H: 2 - W: 0.15313675726554438\n",
            "I: 9 -> H: 3 - W: -0.6166977004764828\n",
            "I: 10 -> H: 1 - W: 0.24350322062080507\n",
            "I: 10 -> H: 2 - W: 0.5334369017262908\n",
            "I: 10 -> H: 3 - W: 0.2596393144458172\n",
            "I: 11 -> H: 1 - W: -0.28692034280538975\n",
            "I: 11 -> H: 2 - W: 0.6471591002028642\n",
            "I: 11 -> H: 3 - W: -0.775783677828528\n",
            "I: 12 -> H: 1 - W: 0.44111496023783237\n",
            "I: 12 -> H: 2 - W: -0.24356809060919896\n",
            "I: 12 -> H: 3 - W: -0.9658864862665465\n",
            "I: 13 -> H: 1 - W: 0.07445388717133034\n",
            "I: 13 -> H: 2 - W: 0.2820401162131774\n",
            "I: 13 -> H: 3 - W: -0.3286378208226741\n",
            "I: 14 -> H: 1 - W: -1.175954829808977\n",
            "I: 14 -> H: 2 - W: 0.5204097548586833\n",
            "I: 14 -> H: 3 - W: 0.9505255461147469\n",
            "I: 15 -> H: 1 - W: 0.6202490590368883\n",
            "I: 15 -> H: 2 - W: -0.5916930151693585\n",
            "I: 15 -> H: 3 - W: 0.7497393305303907\n",
            "I: 16 -> H: 1 - W: -0.20004493807797671\n",
            "I: 16 -> H: 2 - W: 0.1424995482581798\n",
            "I: 16 -> H: 3 - W: 0.023509722647374852\n",
            "I: 17 -> H: 1 - W: -0.17748720331247111\n",
            "I: 17 -> H: 2 - W: -0.05873482497285177\n",
            "I: 17 -> H: 3 - W: -0.5410919319755785\n",
            "I: 18 -> H: 1 - W: 1.27007139484525\n",
            "I: 18 -> H: 2 - W: -0.2591715029798162\n",
            "I: 18 -> H: 3 - W: -0.861153154950537\n",
            "I: 19 -> H: 1 - W: -0.3564063389312861\n",
            "I: 19 -> H: 2 - W: 0.7170681960285727\n",
            "I: 19 -> H: 3 - W: -0.4575439711079451\n",
            "I: 20 -> H: 1 - W: -1.2547851117310973\n",
            "I: 20 -> H: 2 - W: -0.6799904928448605\n",
            "I: 20 -> H: 3 - W: 1.1257960197547325\n",
            "I: 21 -> H: 1 - W: -1.8080256595948272\n",
            "I: 21 -> H: 2 - W: -2.0682841427989618\n",
            "I: 21 -> H: 3 - W: 0.13843017596566087\n",
            "I: 22 -> H: 1 - W: 0.32726502101282356\n",
            "I: 22 -> H: 2 - W: 0.10028081953652523\n",
            "I: 22 -> H: 3 - W: 0.018480738574623432\n",
            "I: 23 -> H: 1 - W: -0.34612240958877427\n",
            "I: 23 -> H: 2 - W: 1.0197717958182082\n",
            "I: 23 -> H: 3 - W: -1.770506828615874\n",
            "I: 24 -> H: 1 - W: 0.732894539338525\n",
            "I: 24 -> H: 2 - W: 0.8657106482268734\n",
            "I: 24 -> H: 3 - W: -0.5130471972107935\n",
            "I: 25 -> H: 1 - W: 0.5691741984352446\n",
            "I: 25 -> H: 2 - W: 0.23380490334792056\n",
            "I: 25 -> H: 3 - W: 2.010000265231013\n",
            "I: 26 -> H: 1 - W: -0.18717203787485803\n",
            "I: 26 -> H: 2 - W: -0.4013462470909031\n",
            "I: 26 -> H: 3 - W: 0.7095843691028318\n",
            "I: 27 -> H: 1 - W: 0.3400435216713914\n",
            "I: 27 -> H: 2 - W: 0.29444015665783524\n",
            "I: 27 -> H: 3 - W: -0.12415643947283102\n",
            "I: 28 -> H: 1 - W: -0.39445581312752814\n",
            "I: 28 -> H: 2 - W: 0.5776489589909574\n",
            "I: 28 -> H: 3 - W: -0.7602063636366677\n",
            "\n",
            "Section 2. Hidden (H) - Node Bias (B): \n",
            "\n",
            "H: 1 - B: -0.5974779959503965\n",
            "H: 2 - B: 0.5571379081692035\n",
            "H: 3 - B: -0.29372094882012995\n",
            "\n",
            "Section 3. Hidden (H) -> Output (O) - Weight (W): \n",
            "\n",
            "H: 1 -> O - W: 2.277746373496938\n",
            "H: 2 -> O - W: 1.8545600132387534\n",
            "H: 3 -> O - W: 3.285337907667123\n",
            "\n",
            "Section 4. Output (O) - Node Bias (B): \n",
            "\n",
            "O - B: -2.8636697939460642\n"
          ]
        }
      ]
    },
    {
      "cell_type": "code",
      "source": [
        "kfolds = 5\n",
        "\n",
        "min_hls = 1\n",
        "max_hls = 10\n",
        "\n",
        "min_alpha = 0.0001\n",
        "max_alpha = 10\n",
        "n_alpha = 10\n",
        "\n",
        "import numpy as np\n",
        "param_grid = {'hidden_layer_sizes':np.arange(min_hls, max_hls), 'alpha': list(np.linspace(min_alpha, max_alpha, num=n_alpha))}"
      ],
      "metadata": {
        "id": "-fmQpHF0UIwE"
      },
      "execution_count": null,
      "outputs": []
    },
    {
      "cell_type": "code",
      "source": [
        "from sklearn.model_selection import GridSearchCV\n",
        "\n",
        "gridsearch = GridSearchCV(MLPClassifier(solver='lbfgs', max_iter=2000, random_state=1), param_grid, scoring='roc_auc', cv=kfolds, n_jobs=-1)\n",
        "gridsearch.fit(X,y)\n",
        "clf_NN = gridsearch.best_estimator_\n",
        "\n",
        "# Display the resulting best network modele\n",
        "summary_nn(clf_NN)"
      ],
      "metadata": {
        "colab": {
          "base_uri": "https://localhost:8080/"
        },
        "id": "GCyS6PDYUO4w",
        "outputId": "33e7d15b-3e68-4002-a868-25a5a88c7316"
      },
      "execution_count": null,
      "outputs": [
        {
          "output_type": "stream",
          "name": "stdout",
          "text": [
            "Neural Network Model Summary \n",
            "\n",
            "Section 0. Penalty level alpha: 3.3334\n",
            "\n",
            "Section 1. Input (I) -> Hidden (H) - Weight (W): \n",
            "\n",
            "I: 1 -> H: 1 - W: -0.00014409769765136936\n",
            "I: 1 -> H: 2 - W: 0.0006113409705505009\n",
            "I: 1 -> H: 3 - W: 0.019994989576428784\n",
            "I: 1 -> H: 4 - W: -0.07403400045149866\n",
            "I: 1 -> H: 5 - W: 0.021052143521329048\n",
            "I: 1 -> H: 6 - W: 0.1234018146136337\n",
            "I: 1 -> H: 7 - W: 0.023392226117320076\n",
            "I: 2 -> H: 1 - W: -3.386134458525079e-05\n",
            "I: 2 -> H: 2 - W: 0.00010863903525528094\n",
            "I: 2 -> H: 3 - W: 0.33558391370753704\n",
            "I: 2 -> H: 4 - W: 0.10861742848044163\n",
            "I: 2 -> H: 5 - W: -0.5410031639618436\n",
            "I: 2 -> H: 6 - W: -0.1685622953003482\n",
            "I: 2 -> H: 7 - W: -0.09391557846291387\n",
            "I: 3 -> H: 1 - W: 0.0003175609964548438\n",
            "I: 3 -> H: 2 - W: 0.0002923668592664837\n",
            "I: 3 -> H: 3 - W: -0.3265633173962484\n",
            "I: 3 -> H: 4 - W: -0.39790338933324876\n",
            "I: 3 -> H: 5 - W: -0.21339824953437508\n",
            "I: 3 -> H: 6 - W: 0.04662956268070672\n",
            "I: 3 -> H: 7 - W: -0.022106010592843766\n",
            "I: 4 -> H: 1 - W: -0.00013413873719690363\n",
            "I: 4 -> H: 2 - W: 0.00011475559109853872\n",
            "I: 4 -> H: 3 - W: 0.7164297782465947\n",
            "I: 4 -> H: 4 - W: 0.12758224174254149\n",
            "I: 4 -> H: 5 - W: 0.5582752586262882\n",
            "I: 4 -> H: 6 - W: 0.08996211149623556\n",
            "I: 4 -> H: 7 - W: 0.042110735957158946\n",
            "I: 5 -> H: 1 - W: 0.0003456543640050581\n",
            "I: 5 -> H: 2 - W: -0.0003774667419895213\n",
            "I: 5 -> H: 3 - W: -0.2761233824266114\n",
            "I: 5 -> H: 4 - W: 0.0009557302562430654\n",
            "I: 5 -> H: 5 - W: -0.0852489792796506\n",
            "I: 5 -> H: 6 - W: 0.08634705253720178\n",
            "I: 5 -> H: 7 - W: 0.03149689509351154\n",
            "I: 6 -> H: 1 - W: 0.0004318573084778996\n",
            "I: 6 -> H: 2 - W: -0.00018778186906417805\n",
            "I: 6 -> H: 3 - W: 0.3275337812145047\n",
            "I: 6 -> H: 4 - W: 0.05298395371986133\n",
            "I: 6 -> H: 5 - W: -0.12517777978776126\n",
            "I: 6 -> H: 6 - W: -0.06651085554134492\n",
            "I: 6 -> H: 7 - W: -0.03150394430892236\n",
            "I: 7 -> H: 1 - W: 0.0002072880072997765\n",
            "I: 7 -> H: 2 - W: -0.00027516814836063406\n",
            "I: 7 -> H: 3 - W: -0.05809762807629101\n",
            "I: 7 -> H: 4 - W: -0.051998989304747854\n",
            "I: 7 -> H: 5 - W: 0.21588973106830467\n",
            "I: 7 -> H: 6 - W: -0.014571118859574793\n",
            "I: 7 -> H: 7 - W: -0.007672704050236108\n",
            "I: 8 -> H: 1 - W: 0.0005199063893900185\n",
            "I: 8 -> H: 2 - W: 0.0005116090470472774\n",
            "I: 8 -> H: 3 - W: 0.14834267100396145\n",
            "I: 8 -> H: 4 - W: -0.1595595872492946\n",
            "I: 8 -> H: 5 - W: -0.24652150661418562\n",
            "I: 8 -> H: 6 - W: -0.3201962775556293\n",
            "I: 8 -> H: 7 - W: -0.09143300668483524\n",
            "I: 9 -> H: 1 - W: 7.015998571051671e-06\n",
            "I: 9 -> H: 2 - W: 0.00041096482604705334\n",
            "I: 9 -> H: 3 - W: -0.07394597235470625\n",
            "I: 9 -> H: 4 - W: 0.05720535094669836\n",
            "I: 9 -> H: 5 - W: 0.4024940897695025\n",
            "I: 9 -> H: 6 - W: 0.22081500661096853\n",
            "I: 9 -> H: 7 - W: 0.036636765044110266\n",
            "I: 10 -> H: 1 - W: 8.964255434319795e-05\n",
            "I: 10 -> H: 2 - W: 0.00047008830256977237\n",
            "I: 10 -> H: 3 - W: -0.08188596079880878\n",
            "I: 10 -> H: 4 - W: 0.1035764056467379\n",
            "I: 10 -> H: 5 - W: -0.14869853867771338\n",
            "I: 10 -> H: 6 - W: 0.1046102256107829\n",
            "I: 10 -> H: 7 - W: 0.04752751234947605\n",
            "I: 11 -> H: 1 - W: -0.000267540060322514\n",
            "I: 11 -> H: 2 - W: 0.00041321850720984875\n",
            "I: 11 -> H: 3 - W: -0.22574430911383117\n",
            "I: 11 -> H: 4 - W: 0.018354817189261605\n",
            "I: 11 -> H: 5 - W: 0.1747350235315633\n",
            "I: 11 -> H: 6 - W: -0.1941139824943147\n",
            "I: 11 -> H: 7 - W: -0.0011429891029344314\n",
            "I: 12 -> H: 1 - W: 0.00013478244218917008\n",
            "I: 12 -> H: 2 - W: -0.0002669287169133644\n",
            "I: 12 -> H: 3 - W: 0.5241762639970716\n",
            "I: 12 -> H: 4 - W: -0.25163751103952925\n",
            "I: 12 -> H: 5 - W: -0.47256904353789014\n",
            "I: 12 -> H: 6 - W: -0.1317086089687109\n",
            "I: 12 -> H: 7 - W: -0.1287729816517631\n",
            "I: 13 -> H: 1 - W: 0.00025916424804279376\n",
            "I: 13 -> H: 2 - W: -0.0004194080724575909\n",
            "I: 13 -> H: 3 - W: -0.029895399679628308\n",
            "I: 13 -> H: 4 - W: 0.12119513474700369\n",
            "I: 13 -> H: 5 - W: 0.27189359706083244\n",
            "I: 13 -> H: 6 - W: 0.1458596671725941\n",
            "I: 13 -> H: 7 - W: 0.04837041161469097\n",
            "I: 14 -> H: 1 - W: -0.00043300245273095384\n",
            "I: 14 -> H: 2 - W: 9.803879385819978e-05\n",
            "I: 14 -> H: 3 - W: -0.16525281637443776\n",
            "I: 14 -> H: 4 - W: 0.0857817046105137\n",
            "I: 14 -> H: 5 - W: -0.0800207447377553\n",
            "I: 14 -> H: 6 - W: 0.1614929645542517\n",
            "I: 14 -> H: 7 - W: 0.06453969177353934\n",
            "I: 15 -> H: 1 - W: 0.0005522160912233175\n",
            "I: 15 -> H: 2 - W: -0.00014025835064065183\n",
            "I: 15 -> H: 3 - W: -0.1101403929064044\n",
            "I: 15 -> H: 4 - W: 0.026467247447485867\n",
            "I: 15 -> H: 5 - W: 0.11226903051690666\n",
            "I: 15 -> H: 6 - W: 0.023752793768295942\n",
            "I: 15 -> H: 7 - W: 0.009174082974331333\n",
            "I: 16 -> H: 1 - W: -0.0002461164911958\n",
            "I: 16 -> H: 2 - W: 0.0006242392443743011\n",
            "I: 16 -> H: 3 - W: 0.1370127110042448\n",
            "I: 16 -> H: 4 - W: 0.22660721251922297\n",
            "I: 16 -> H: 5 - W: -0.0646882246261153\n",
            "I: 16 -> H: 6 - W: -0.09554922526034415\n",
            "I: 16 -> H: 7 - W: 0.0036934288375231163\n",
            "I: 17 -> H: 1 - W: -0.00011670384521595331\n",
            "I: 17 -> H: 2 - W: -0.0002725482854338386\n",
            "I: 17 -> H: 3 - W: -0.14417963030809072\n",
            "I: 17 -> H: 4 - W: -0.22577275159877422\n",
            "I: 17 -> H: 5 - W: 0.07053290051343694\n",
            "I: 17 -> H: 6 - W: 0.10104438832400607\n",
            "I: 17 -> H: 7 - W: -0.010977139614891569\n",
            "I: 18 -> H: 1 - W: 0.0007531707593956533\n",
            "I: 18 -> H: 2 - W: 0.0005818743825426775\n",
            "I: 18 -> H: 3 - W: -0.40490928189885295\n",
            "I: 18 -> H: 4 - W: -0.01000241345805595\n",
            "I: 18 -> H: 5 - W: 0.11255393632883405\n",
            "I: 18 -> H: 6 - W: -0.1601983649692952\n",
            "I: 18 -> H: 7 - W: -0.03621029336844876\n",
            "I: 19 -> H: 1 - W: -0.0002095125490797695\n",
            "I: 19 -> H: 2 - W: -0.00041194497713881856\n",
            "I: 19 -> H: 3 - W: 0.13584988624732708\n",
            "I: 19 -> H: 4 - W: -0.07719522958538158\n",
            "I: 19 -> H: 5 - W: -0.039600968157692686\n",
            "I: 19 -> H: 6 - W: 0.0032200196909240955\n",
            "I: 19 -> H: 7 - W: -0.0346325614513228\n",
            "I: 20 -> H: 1 - W: 0.0005143107853010333\n",
            "I: 20 -> H: 2 - W: -0.0002881781679097327\n",
            "I: 20 -> H: 3 - W: 0.2630540789867806\n",
            "I: 20 -> H: 4 - W: 0.088900909246863\n",
            "I: 20 -> H: 5 - W: -0.06603099468358695\n",
            "I: 20 -> H: 6 - W: 0.16132681987733516\n",
            "I: 20 -> H: 7 - W: 0.0630386300104502\n",
            "I: 21 -> H: 1 - W: 0.0004241847217386426\n",
            "I: 21 -> H: 2 - W: 0.00041464129311301654\n",
            "I: 21 -> H: 3 - W: 0.012258963656757767\n",
            "I: 21 -> H: 4 - W: -0.7473034520148774\n",
            "I: 21 -> H: 5 - W: 0.7608426499485198\n",
            "I: 21 -> H: 6 - W: -0.7452275524437411\n",
            "I: 21 -> H: 7 - W: -0.3382374963793335\n",
            "I: 22 -> H: 1 - W: -0.00018834698499856808\n",
            "I: 22 -> H: 2 - W: -6.237633703989968e-05\n",
            "I: 22 -> H: 3 - W: -0.0030361620877266283\n",
            "I: 22 -> H: 4 - W: -0.08261007077884736\n",
            "I: 22 -> H: 5 - W: 0.28873610029383723\n",
            "I: 22 -> H: 6 - W: -0.08410785692242388\n",
            "I: 22 -> H: 7 - W: -0.03826117638614373\n",
            "I: 23 -> H: 1 - W: 0.0002518638849134409\n",
            "I: 23 -> H: 2 - W: -0.00025468406355567724\n",
            "I: 23 -> H: 3 - W: -0.014022206115190484\n",
            "I: 23 -> H: 4 - W: 0.17553315056317464\n",
            "I: 23 -> H: 5 - W: -0.2976013455575744\n",
            "I: 23 -> H: 6 - W: 0.2057425340169829\n",
            "I: 23 -> H: 7 - W: 0.0824501487053299\n",
            "I: 24 -> H: 1 - W: -6.567883455440202e-05\n",
            "I: 24 -> H: 2 - W: -0.0001122141050848557\n",
            "I: 24 -> H: 3 - W: 0.36938868192702284\n",
            "I: 24 -> H: 4 - W: 0.28761267392318873\n",
            "I: 24 -> H: 5 - W: -0.5423242777719776\n",
            "I: 24 -> H: 6 - W: 0.2793991030382218\n",
            "I: 24 -> H: 7 - W: 0.13519056938996113\n",
            "I: 25 -> H: 1 - W: -0.00033120108880428575\n",
            "I: 25 -> H: 2 - W: -6.837460459113614e-05\n",
            "I: 25 -> H: 3 - W: -0.37062685744848384\n",
            "I: 25 -> H: 4 - W: 0.36867413775708885\n",
            "I: 25 -> H: 5 - W: -0.20310753889267188\n",
            "I: 25 -> H: 6 - W: 0.35033944767442443\n",
            "I: 25 -> H: 7 - W: 0.1522453737113059\n",
            "I: 26 -> H: 1 - W: -0.00023365180494102993\n",
            "I: 26 -> H: 2 - W: -0.00016803589607225738\n",
            "I: 26 -> H: 3 - W: 0.15738392963226158\n",
            "I: 26 -> H: 4 - W: 0.15893659761237472\n",
            "I: 26 -> H: 5 - W: 0.19535163656280885\n",
            "I: 26 -> H: 6 - W: -0.20993758533569798\n",
            "I: 26 -> H: 7 - W: -0.04748871694170116\n",
            "I: 27 -> H: 1 - W: -0.0005114505181853871\n",
            "I: 27 -> H: 2 - W: 0.0004704040758459744\n",
            "I: 27 -> H: 3 - W: -0.2329599790025897\n",
            "I: 27 -> H: 4 - W: -0.13745174300462848\n",
            "I: 27 -> H: 5 - W: -0.36663588712228146\n",
            "I: 27 -> H: 6 - W: 0.24450912857136486\n",
            "I: 27 -> H: 7 - W: 0.12737122189791183\n",
            "I: 28 -> H: 1 - W: -1.0013029916361942e-06\n",
            "I: 28 -> H: 2 - W: 0.00027240701970393364\n",
            "I: 28 -> H: 3 - W: 0.06935363999616558\n",
            "I: 28 -> H: 4 - W: -0.02029503886859207\n",
            "I: 28 -> H: 5 - W: 0.17808519872205217\n",
            "I: 28 -> H: 6 - W: -0.029683910853312963\n",
            "I: 28 -> H: 7 - W: -0.08749853993547238\n",
            "\n",
            "Section 2. Hidden (H) - Node Bias (B): \n",
            "\n",
            "H: 1 - B: -0.5218993745216939\n",
            "H: 2 - B: -0.240744077462786\n",
            "H: 3 - B: -0.22639281627266203\n",
            "H: 4 - B: 1.1021097028453475\n",
            "H: 5 - B: 0.038455484454582\n",
            "H: 6 - B: 1.0968787908343631\n",
            "H: 7 - B: 1.411509048807658\n",
            "\n",
            "Section 3. Hidden (H) -> Output (O) - Weight (W): \n",
            "\n",
            "H: 1 -> O - W: 0.000625933605063695\n",
            "H: 2 -> O - W: -0.00010277626584165458\n",
            "H: 3 -> O - W: -1.4078347859219118\n",
            "H: 4 -> O - W: 1.1477691763547917\n",
            "H: 5 -> O - W: -1.6233761649612541\n",
            "H: 6 -> O - W: 1.13932773913305\n",
            "H: 7 -> O - W: 0.5067858038930944\n",
            "\n",
            "Section 4. Output (O) - Node Bias (B): \n",
            "\n",
            "O - B: -1.8907311454318931\n"
          ]
        }
      ]
    },
    {
      "cell_type": "code",
      "source": [
        "y_test_actual = df_testData[DV]\n",
        "X_test = df_testData.drop(columns=[DV])\n",
        "X_test = pd.get_dummies(X_test)"
      ],
      "metadata": {
        "id": "av3yqVytUTQ6"
      },
      "execution_count": null,
      "outputs": []
    },
    {
      "cell_type": "code",
      "source": [
        "from sklearn import metrics\n",
        "\n",
        "# Display the confusion matrix over the test partition\n",
        "metrics.confusion_matrix(y_test_actual, clf_NN.predict(X_test))"
      ],
      "metadata": {
        "colab": {
          "base_uri": "https://localhost:8080/"
        },
        "id": "kY4j6KveVWDA",
        "outputId": "14469a3b-5052-4041-e935-b6134b32d34c"
      },
      "execution_count": null,
      "outputs": [
        {
          "output_type": "execute_result",
          "data": {
            "text/plain": [
              "array([[16, 23],\n",
              "       [ 4, 80]])"
            ]
          },
          "metadata": {},
          "execution_count": 543
        }
      ]
    },
    {
      "cell_type": "code",
      "source": [
        "clf_NN.score(X_test, y_test_actual)"
      ],
      "metadata": {
        "colab": {
          "base_uri": "https://localhost:8080/"
        },
        "id": "z0kAkPoQVdLM",
        "outputId": "2e73c257-aec8-44c7-c06e-2aac312091eb"
      },
      "execution_count": null,
      "outputs": [
        {
          "output_type": "execute_result",
          "data": {
            "text/plain": [
              "0.7804878048780488"
            ]
          },
          "metadata": {},
          "execution_count": 544
        }
      ]
    },
    {
      "cell_type": "code",
      "source": [
        "print(classification_report(y_test_actual, clf_NN.predict(X_test)))"
      ],
      "metadata": {
        "colab": {
          "base_uri": "https://localhost:8080/"
        },
        "id": "b9tmvNXNVfWF",
        "outputId": "62478401-efe3-4632-f88b-607518038aa5"
      },
      "execution_count": null,
      "outputs": [
        {
          "output_type": "stream",
          "name": "stdout",
          "text": [
            "              precision    recall  f1-score   support\n",
            "\n",
            "           N       0.80      0.41      0.54        39\n",
            "           Y       0.78      0.95      0.86        84\n",
            "\n",
            "    accuracy                           0.78       123\n",
            "   macro avg       0.79      0.68      0.70       123\n",
            "weighted avg       0.78      0.78      0.76       123\n",
            "\n"
          ]
        }
      ]
    },
    {
      "cell_type": "code",
      "source": [],
      "metadata": {
        "id": "Pc9X6MdDVzZ1"
      },
      "execution_count": null,
      "outputs": []
    }
  ]
}